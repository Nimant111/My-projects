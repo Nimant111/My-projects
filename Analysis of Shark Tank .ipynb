{
 "cells": [
  {
   "cell_type": "code",
   "execution_count": 39,
   "id": "5a51bd58",
   "metadata": {},
   "outputs": [],
   "source": [
    "import numpy as np \n",
    "import pandas as pd \n",
    "import seaborn as sns\n",
    "import matplotlib.pyplot as plt\n",
    "plt.style.use('dark_background')"
   ]
  },
  {
   "cell_type": "code",
   "execution_count": 41,
   "id": "67286e32",
   "metadata": {},
   "outputs": [],
   "source": [
    "df=pd.read_csv(\"D:/shark.csv\")"
   ]
  },
  {
   "cell_type": "code",
   "execution_count": 42,
   "id": "0f62bca0",
   "metadata": {},
   "outputs": [
    {
     "data": {
      "text/plain": [
       "Index(['Season Number', 'Season Start', 'Season End', 'Episode Number',\n",
       "       'Episode Title', 'Pitch Number', 'Startup Name', 'Industry',\n",
       "       'Business Description', 'Company Website', 'Number of Presenters',\n",
       "       'Male Presenters', 'Female Presenters', 'Transgender Presenters',\n",
       "       'Couple Presenters', 'Pitchers Average Age', 'Started in',\n",
       "       'Pitchers City', 'Pitchers State', 'Yearly Revenue', 'Monthly Sales',\n",
       "       'Gross Margin', 'Net Margin', 'Original Ask Amount',\n",
       "       'Original Offered Equity', 'Valuation Requested', 'Received Offer',\n",
       "       'Accepted Offer', 'Total Deal Amount', 'Total Deal Equity',\n",
       "       'Total Deal Debt', 'Debt Interest', 'Deal Valuation',\n",
       "       'Number of sharks in deal', 'Deal has conditions', 'Has Patents',\n",
       "       'Ashneer Investment Amount', 'Ashneer Investment Equity',\n",
       "       'Ashneer Debt Amount', 'Namita Investment Amount',\n",
       "       'Namita Investment Equity', 'Namita Debt Amount',\n",
       "       'Anupam Investment Amount', 'Anupam Investment Equity',\n",
       "       'Anupam Debt Amount', 'Vineeta Investment Amount',\n",
       "       'Vineeta Investment Equity', 'Vineeta Debt Amount',\n",
       "       'Aman Investment Amount', 'Aman Investment Equity', 'Aman Debt Amount',\n",
       "       'Peyush Investment Amount', 'Peyush Investment Equity',\n",
       "       'Peyush Debt Amount', 'Ghazal Investment Amount',\n",
       "       'Ghazal Investment Equity', 'Ghazal Debt Amount',\n",
       "       'Amit Investment Amount', 'Amit Investment Equity', 'Amit Debt Amount',\n",
       "       'Guest Investment Amount', 'Guest Investment Equity',\n",
       "       'Guest Debt Amount', 'Guest Name'],\n",
       "      dtype='object')"
      ]
     },
     "execution_count": 42,
     "metadata": {},
     "output_type": "execute_result"
    }
   ],
   "source": [
    "df.columns"
   ]
  },
  {
   "cell_type": "code",
   "execution_count": 43,
   "id": "d1c7ddf9",
   "metadata": {},
   "outputs": [
    {
     "data": {
      "text/plain": [
       "Season Number                0\n",
       "Season Start                 0\n",
       "Season End                   0\n",
       "Episode Number               0\n",
       "Episode Title                0\n",
       "                          ... \n",
       "Amit Debt Amount           316\n",
       "Guest Investment Amount    318\n",
       "Guest Investment Equity    318\n",
       "Guest Debt Amount          318\n",
       "Guest Name                 318\n",
       "Length: 64, dtype: int64"
      ]
     },
     "execution_count": 43,
     "metadata": {},
     "output_type": "execute_result"
    }
   ],
   "source": [
    "df.isnull().sum()"
   ]
  },
  {
   "cell_type": "code",
   "execution_count": 44,
   "id": "4384f328",
   "metadata": {},
   "outputs": [
    {
     "data": {
      "text/html": [
       "<div>\n",
       "<style scoped>\n",
       "    .dataframe tbody tr th:only-of-type {\n",
       "        vertical-align: middle;\n",
       "    }\n",
       "\n",
       "    .dataframe tbody tr th {\n",
       "        vertical-align: top;\n",
       "    }\n",
       "\n",
       "    .dataframe thead th {\n",
       "        text-align: right;\n",
       "    }\n",
       "</style>\n",
       "<table border=\"1\" class=\"dataframe\">\n",
       "  <thead>\n",
       "    <tr style=\"text-align: right;\">\n",
       "      <th></th>\n",
       "      <th>Pitchers State</th>\n",
       "      <th>count</th>\n",
       "    </tr>\n",
       "  </thead>\n",
       "  <tbody>\n",
       "    <tr>\n",
       "      <th>0</th>\n",
       "      <td>Delhi</td>\n",
       "      <td>44</td>\n",
       "    </tr>\n",
       "    <tr>\n",
       "      <th>1</th>\n",
       "      <td>Gujarat</td>\n",
       "      <td>32</td>\n",
       "    </tr>\n",
       "    <tr>\n",
       "      <th>2</th>\n",
       "      <td>Karnataka</td>\n",
       "      <td>34</td>\n",
       "    </tr>\n",
       "    <tr>\n",
       "      <th>3</th>\n",
       "      <td>Punjab</td>\n",
       "      <td>8</td>\n",
       "    </tr>\n",
       "    <tr>\n",
       "      <th>4</th>\n",
       "      <td>Maharashtra</td>\n",
       "      <td>92</td>\n",
       "    </tr>\n",
       "    <tr>\n",
       "      <th>5</th>\n",
       "      <td>Delhi,Punjab</td>\n",
       "      <td>1</td>\n",
       "    </tr>\n",
       "    <tr>\n",
       "      <th>6</th>\n",
       "      <td>Bihar</td>\n",
       "      <td>4</td>\n",
       "    </tr>\n",
       "    <tr>\n",
       "      <th>7</th>\n",
       "      <td>Telangana</td>\n",
       "      <td>12</td>\n",
       "    </tr>\n",
       "    <tr>\n",
       "      <th>8</th>\n",
       "      <td>Haryana</td>\n",
       "      <td>18</td>\n",
       "    </tr>\n",
       "    <tr>\n",
       "      <th>9</th>\n",
       "      <td>Kerala</td>\n",
       "      <td>2</td>\n",
       "    </tr>\n",
       "    <tr>\n",
       "      <th>10</th>\n",
       "      <td>West Bengal</td>\n",
       "      <td>13</td>\n",
       "    </tr>\n",
       "    <tr>\n",
       "      <th>11</th>\n",
       "      <td>Tamil Nadu</td>\n",
       "      <td>8</td>\n",
       "    </tr>\n",
       "    <tr>\n",
       "      <th>12</th>\n",
       "      <td>Rajasthan</td>\n",
       "      <td>11</td>\n",
       "    </tr>\n",
       "    <tr>\n",
       "      <th>13</th>\n",
       "      <td>Madhya Pradesh</td>\n",
       "      <td>5</td>\n",
       "    </tr>\n",
       "    <tr>\n",
       "      <th>14</th>\n",
       "      <td>Karnataka,West Bengal</td>\n",
       "      <td>1</td>\n",
       "    </tr>\n",
       "    <tr>\n",
       "      <th>15</th>\n",
       "      <td>Jammu &amp; Kashmir</td>\n",
       "      <td>3</td>\n",
       "    </tr>\n",
       "    <tr>\n",
       "      <th>16</th>\n",
       "      <td>Uttar Pradesh</td>\n",
       "      <td>13</td>\n",
       "    </tr>\n",
       "    <tr>\n",
       "      <th>17</th>\n",
       "      <td>Uttarakhand</td>\n",
       "      <td>1</td>\n",
       "    </tr>\n",
       "    <tr>\n",
       "      <th>18</th>\n",
       "      <td>Goa</td>\n",
       "      <td>3</td>\n",
       "    </tr>\n",
       "    <tr>\n",
       "      <th>19</th>\n",
       "      <td>Delhi,Maharashtra</td>\n",
       "      <td>1</td>\n",
       "    </tr>\n",
       "    <tr>\n",
       "      <th>20</th>\n",
       "      <td>Haryana,Madhya Pradesh</td>\n",
       "      <td>1</td>\n",
       "    </tr>\n",
       "    <tr>\n",
       "      <th>21</th>\n",
       "      <td>Himachal Pradesh</td>\n",
       "      <td>1</td>\n",
       "    </tr>\n",
       "    <tr>\n",
       "      <th>22</th>\n",
       "      <td>Jharkhand</td>\n",
       "      <td>1</td>\n",
       "    </tr>\n",
       "    <tr>\n",
       "      <th>23</th>\n",
       "      <td>Karnataka,Telangana</td>\n",
       "      <td>1</td>\n",
       "    </tr>\n",
       "    <tr>\n",
       "      <th>24</th>\n",
       "      <td>Telangana,Maharashtra</td>\n",
       "      <td>1</td>\n",
       "    </tr>\n",
       "    <tr>\n",
       "      <th>25</th>\n",
       "      <td>Kerala,Maharashtra</td>\n",
       "      <td>1</td>\n",
       "    </tr>\n",
       "    <tr>\n",
       "      <th>26</th>\n",
       "      <td>Haryana,West Bengal</td>\n",
       "      <td>1</td>\n",
       "    </tr>\n",
       "    <tr>\n",
       "      <th>27</th>\n",
       "      <td>Chhattisgarh</td>\n",
       "      <td>1</td>\n",
       "    </tr>\n",
       "    <tr>\n",
       "      <th>28</th>\n",
       "      <td>Haryana,Maharashtra</td>\n",
       "      <td>1</td>\n",
       "    </tr>\n",
       "    <tr>\n",
       "      <th>29</th>\n",
       "      <td>Karnataka,Andhra Pradesh</td>\n",
       "      <td>1</td>\n",
       "    </tr>\n",
       "    <tr>\n",
       "      <th>30</th>\n",
       "      <td>Jharkhand,Chhattisgarh</td>\n",
       "      <td>1</td>\n",
       "    </tr>\n",
       "    <tr>\n",
       "      <th>31</th>\n",
       "      <td>Uttarakhand,Uttar Pradesh</td>\n",
       "      <td>1</td>\n",
       "    </tr>\n",
       "    <tr>\n",
       "      <th>32</th>\n",
       "      <td>Gujarat,Uttar Pradesh</td>\n",
       "      <td>1</td>\n",
       "    </tr>\n",
       "    <tr>\n",
       "      <th>33</th>\n",
       "      <td>Arunachal Pradesh</td>\n",
       "      <td>1</td>\n",
       "    </tr>\n",
       "  </tbody>\n",
       "</table>\n",
       "</div>"
      ],
      "text/plain": [
       "               Pitchers State  count\n",
       "0                       Delhi     44\n",
       "1                     Gujarat     32\n",
       "2                   Karnataka     34\n",
       "3                      Punjab      8\n",
       "4                 Maharashtra     92\n",
       "5                Delhi,Punjab      1\n",
       "6                       Bihar      4\n",
       "7                   Telangana     12\n",
       "8                     Haryana     18\n",
       "9                      Kerala      2\n",
       "10                West Bengal     13\n",
       "11                 Tamil Nadu      8\n",
       "12                  Rajasthan     11\n",
       "13             Madhya Pradesh      5\n",
       "14      Karnataka,West Bengal      1\n",
       "15            Jammu & Kashmir      3\n",
       "16              Uttar Pradesh     13\n",
       "17                Uttarakhand      1\n",
       "18                        Goa      3\n",
       "19          Delhi,Maharashtra      1\n",
       "20     Haryana,Madhya Pradesh      1\n",
       "21           Himachal Pradesh      1\n",
       "22                  Jharkhand      1\n",
       "23        Karnataka,Telangana      1\n",
       "24      Telangana,Maharashtra      1\n",
       "25         Kerala,Maharashtra      1\n",
       "26        Haryana,West Bengal      1\n",
       "27               Chhattisgarh      1\n",
       "28        Haryana,Maharashtra      1\n",
       "29   Karnataka,Andhra Pradesh      1\n",
       "30     Jharkhand,Chhattisgarh      1\n",
       "31  Uttarakhand,Uttar Pradesh      1\n",
       "32      Gujarat,Uttar Pradesh      1\n",
       "33          Arunachal Pradesh      1"
      ]
     },
     "execution_count": 44,
     "metadata": {},
     "output_type": "execute_result"
    }
   ],
   "source": [
    "# getting value counts for Pitcher state and applying it to variable g1.\n",
    "g1=df['Pitchers State'].value_counts(sort=False).reset_index()\n",
    "g1"
   ]
  },
  {
   "cell_type": "code",
   "execution_count": 72,
   "id": "a8620edd",
   "metadata": {},
   "outputs": [
    {
     "data": {
      "text/plain": [
       "<Figure size 720x720 with 0 Axes>"
      ]
     },
     "metadata": {},
     "output_type": "display_data"
    },
    {
     "data": {
      "image/png": "[encoded data removed]",
      "text/plain": [
       "<Figure size 1080x1080 with 1 Axes>"
      ]
     },
     "metadata": {},
     "output_type": "display_data"
    }
   ],
   "source": [
    "# Visualising the g1 data on horizontal bar chart.\n",
    "plt.figure(figsize=(10,10))\n",
    "g1.plot(kind='barh')\n",
    "# plt.barh('index','Pitchers State',data=g1)\n",
    "plt.grid(True)\n",
    "plt.xlabel('Count')\n",
    "plt.ylabel('Pitcher State')\n",
    "plt.title('Pitcher State')\n",
    "plt.show()\n"
   ]
  },
  {
   "cell_type": "code",
   "execution_count": 51,
   "id": "9db52f47",
   "metadata": {},
   "outputs": [
    {
     "data": {
      "text/html": [
       "<div>\n",
       "<style scoped>\n",
       "    .dataframe tbody tr th:only-of-type {\n",
       "        vertical-align: middle;\n",
       "    }\n",
       "\n",
       "    .dataframe tbody tr th {\n",
       "        vertical-align: top;\n",
       "    }\n",
       "\n",
       "    .dataframe thead th {\n",
       "        text-align: right;\n",
       "    }\n",
       "</style>\n",
       "<table border=\"1\" class=\"dataframe\">\n",
       "  <thead>\n",
       "    <tr style=\"text-align: right;\">\n",
       "      <th></th>\n",
       "      <th>Startup Name</th>\n",
       "      <th>Industry</th>\n",
       "      <th>Valuation Requested</th>\n",
       "      <th>Received Offer</th>\n",
       "      <th>Accepted Offer</th>\n",
       "      <th>Total Deal Amount</th>\n",
       "      <th>Total Deal Equity</th>\n",
       "      <th>Total Deal Debt</th>\n",
       "      <th>Debt Interest</th>\n",
       "      <th>Deal Valuation</th>\n",
       "    </tr>\n",
       "  </thead>\n",
       "  <tbody>\n",
       "    <tr>\n",
       "      <th>0</th>\n",
       "      <td>BluePineFoods</td>\n",
       "      <td>Food</td>\n",
       "      <td>1000.0</td>\n",
       "      <td>1</td>\n",
       "      <td>1.0</td>\n",
       "      <td>75.0</td>\n",
       "      <td>16.00</td>\n",
       "      <td>NaN</td>\n",
       "      <td>NaN</td>\n",
       "      <td>469.0</td>\n",
       "    </tr>\n",
       "    <tr>\n",
       "      <th>1</th>\n",
       "      <td>BoozScooters</td>\n",
       "      <td>Vehicles/Electrical Vehicles</td>\n",
       "      <td>267.0</td>\n",
       "      <td>1</td>\n",
       "      <td>1.0</td>\n",
       "      <td>40.0</td>\n",
       "      <td>50.00</td>\n",
       "      <td>NaN</td>\n",
       "      <td>NaN</td>\n",
       "      <td>80.0</td>\n",
       "    </tr>\n",
       "    <tr>\n",
       "      <th>2</th>\n",
       "      <td>HeartUpMySleeves</td>\n",
       "      <td>Beauty/Fashion</td>\n",
       "      <td>250.0</td>\n",
       "      <td>1</td>\n",
       "      <td>1.0</td>\n",
       "      <td>25.0</td>\n",
       "      <td>30.00</td>\n",
       "      <td>NaN</td>\n",
       "      <td>NaN</td>\n",
       "      <td>83.0</td>\n",
       "    </tr>\n",
       "    <tr>\n",
       "      <th>3</th>\n",
       "      <td>TagzFoods</td>\n",
       "      <td>Food</td>\n",
       "      <td>7000.0</td>\n",
       "      <td>1</td>\n",
       "      <td>1.0</td>\n",
       "      <td>70.0</td>\n",
       "      <td>2.75</td>\n",
       "      <td>NaN</td>\n",
       "      <td>NaN</td>\n",
       "      <td>2545.0</td>\n",
       "    </tr>\n",
       "    <tr>\n",
       "      <th>4</th>\n",
       "      <td>HeadAndHeart</td>\n",
       "      <td>Education</td>\n",
       "      <td>1000.0</td>\n",
       "      <td>0</td>\n",
       "      <td>NaN</td>\n",
       "      <td>NaN</td>\n",
       "      <td>NaN</td>\n",
       "      <td>NaN</td>\n",
       "      <td>NaN</td>\n",
       "      <td>NaN</td>\n",
       "    </tr>\n",
       "    <tr>\n",
       "      <th>...</th>\n",
       "      <td>...</td>\n",
       "      <td>...</td>\n",
       "      <td>...</td>\n",
       "      <td>...</td>\n",
       "      <td>...</td>\n",
       "      <td>...</td>\n",
       "      <td>...</td>\n",
       "      <td>...</td>\n",
       "      <td>...</td>\n",
       "      <td>...</td>\n",
       "    </tr>\n",
       "    <tr>\n",
       "      <th>315</th>\n",
       "      <td>MYBYK</td>\n",
       "      <td>Vehicles/Electrical Vehicles</td>\n",
       "      <td>20000.0</td>\n",
       "      <td>0</td>\n",
       "      <td>NaN</td>\n",
       "      <td>NaN</td>\n",
       "      <td>NaN</td>\n",
       "      <td>NaN</td>\n",
       "      <td>NaN</td>\n",
       "      <td>NaN</td>\n",
       "    </tr>\n",
       "    <tr>\n",
       "      <th>316</th>\n",
       "      <td>GODESi</td>\n",
       "      <td>Food</td>\n",
       "      <td>18000.0</td>\n",
       "      <td>1</td>\n",
       "      <td>0.0</td>\n",
       "      <td>NaN</td>\n",
       "      <td>NaN</td>\n",
       "      <td>NaN</td>\n",
       "      <td>NaN</td>\n",
       "      <td>NaN</td>\n",
       "    </tr>\n",
       "    <tr>\n",
       "      <th>317</th>\n",
       "      <td>TAC</td>\n",
       "      <td>Beauty/Fashion</td>\n",
       "      <td>30000.0</td>\n",
       "      <td>1</td>\n",
       "      <td>1.0</td>\n",
       "      <td>81.0</td>\n",
       "      <td>1.00</td>\n",
       "      <td>69.0</td>\n",
       "      <td>12.0</td>\n",
       "      <td>8100.0</td>\n",
       "    </tr>\n",
       "    <tr>\n",
       "      <th>318</th>\n",
       "      <td>Naara-Aaba</td>\n",
       "      <td>Liquor/Beverages</td>\n",
       "      <td>3000.0</td>\n",
       "      <td>1</td>\n",
       "      <td>1.0</td>\n",
       "      <td>50.0</td>\n",
       "      <td>5.00</td>\n",
       "      <td>25.0</td>\n",
       "      <td>10.0</td>\n",
       "      <td>1000.0</td>\n",
       "    </tr>\n",
       "    <tr>\n",
       "      <th>319</th>\n",
       "      <td>StyloBug</td>\n",
       "      <td>Beauty/Fashion</td>\n",
       "      <td>4000.0</td>\n",
       "      <td>1</td>\n",
       "      <td>1.0</td>\n",
       "      <td>80.0</td>\n",
       "      <td>10.00</td>\n",
       "      <td>NaN</td>\n",
       "      <td>NaN</td>\n",
       "      <td>800.0</td>\n",
       "    </tr>\n",
       "  </tbody>\n",
       "</table>\n",
       "<p>320 rows × 10 columns</p>\n",
       "</div>"
      ],
      "text/plain": [
       "         Startup Name                      Industry  Valuation Requested   \n",
       "0       BluePineFoods                          Food               1000.0  \\\n",
       "1        BoozScooters  Vehicles/Electrical Vehicles                267.0   \n",
       "2    HeartUpMySleeves                Beauty/Fashion                250.0   \n",
       "3           TagzFoods                          Food               7000.0   \n",
       "4        HeadAndHeart                     Education               1000.0   \n",
       "..                ...                           ...                  ...   \n",
       "315             MYBYK  Vehicles/Electrical Vehicles              20000.0   \n",
       "316            GODESi                          Food              18000.0   \n",
       "317               TAC                Beauty/Fashion              30000.0   \n",
       "318        Naara-Aaba              Liquor/Beverages               3000.0   \n",
       "319          StyloBug                Beauty/Fashion               4000.0   \n",
       "\n",
       "     Received Offer  Accepted Offer  Total Deal Amount  Total Deal Equity   \n",
       "0                 1             1.0               75.0              16.00  \\\n",
       "1                 1             1.0               40.0              50.00   \n",
       "2                 1             1.0               25.0              30.00   \n",
       "3                 1             1.0               70.0               2.75   \n",
       "4                 0             NaN                NaN                NaN   \n",
       "..              ...             ...                ...                ...   \n",
       "315               0             NaN                NaN                NaN   \n",
       "316               1             0.0                NaN                NaN   \n",
       "317               1             1.0               81.0               1.00   \n",
       "318               1             1.0               50.0               5.00   \n",
       "319               1             1.0               80.0              10.00   \n",
       "\n",
       "     Total Deal Debt  Debt Interest  Deal Valuation  \n",
       "0                NaN            NaN           469.0  \n",
       "1                NaN            NaN            80.0  \n",
       "2                NaN            NaN            83.0  \n",
       "3                NaN            NaN          2545.0  \n",
       "4                NaN            NaN             NaN  \n",
       "..               ...            ...             ...  \n",
       "315              NaN            NaN             NaN  \n",
       "316              NaN            NaN             NaN  \n",
       "317             69.0           12.0          8100.0  \n",
       "318             25.0           10.0          1000.0  \n",
       "319              NaN            NaN           800.0  \n",
       "\n",
       "[320 rows x 10 columns]"
      ]
     },
     "execution_count": 51,
     "metadata": {},
     "output_type": "execute_result"
    }
   ],
   "source": [
    "# Selecting specific coloumns in dataframe in df1\n",
    "df1=df[['Startup Name', 'Industry','Valuation Requested', 'Received Offer',\n",
    "       'Accepted Offer', 'Total Deal Amount', 'Total Deal Equity',\n",
    "       'Total Deal Debt', 'Debt Interest', 'Deal Valuation']]\n",
    "df1"
   ]
  },
  {
   "cell_type": "code",
   "execution_count": 52,
   "id": "787041e0",
   "metadata": {},
   "outputs": [
    {
     "data": {
      "text/html": [
       "<div>\n",
       "<style scoped>\n",
       "    .dataframe tbody tr th:only-of-type {\n",
       "        vertical-align: middle;\n",
       "    }\n",
       "\n",
       "    .dataframe tbody tr th {\n",
       "        vertical-align: top;\n",
       "    }\n",
       "\n",
       "    .dataframe thead th {\n",
       "        text-align: right;\n",
       "    }\n",
       "</style>\n",
       "<table border=\"1\" class=\"dataframe\">\n",
       "  <thead>\n",
       "    <tr style=\"text-align: right;\">\n",
       "      <th></th>\n",
       "      <th>Industry</th>\n",
       "      <th>count</th>\n",
       "    </tr>\n",
       "  </thead>\n",
       "  <tbody>\n",
       "    <tr>\n",
       "      <th>0</th>\n",
       "      <td>Food</td>\n",
       "      <td>82</td>\n",
       "    </tr>\n",
       "    <tr>\n",
       "      <th>1</th>\n",
       "      <td>Vehicles/Electrical Vehicles</td>\n",
       "      <td>13</td>\n",
       "    </tr>\n",
       "    <tr>\n",
       "      <th>2</th>\n",
       "      <td>Beauty/Fashion</td>\n",
       "      <td>58</td>\n",
       "    </tr>\n",
       "    <tr>\n",
       "      <th>3</th>\n",
       "      <td>Education</td>\n",
       "      <td>9</td>\n",
       "    </tr>\n",
       "    <tr>\n",
       "      <th>4</th>\n",
       "      <td>Agriculture</td>\n",
       "      <td>3</td>\n",
       "    </tr>\n",
       "    <tr>\n",
       "      <th>5</th>\n",
       "      <td>Medical/Health</td>\n",
       "      <td>23</td>\n",
       "    </tr>\n",
       "    <tr>\n",
       "      <th>6</th>\n",
       "      <td>Manufacturing</td>\n",
       "      <td>38</td>\n",
       "    </tr>\n",
       "    <tr>\n",
       "      <th>7</th>\n",
       "      <td>Technology/Software</td>\n",
       "      <td>26</td>\n",
       "    </tr>\n",
       "    <tr>\n",
       "      <th>8</th>\n",
       "      <td>Electronics</td>\n",
       "      <td>4</td>\n",
       "    </tr>\n",
       "    <tr>\n",
       "      <th>9</th>\n",
       "      <td>Animal/Pets</td>\n",
       "      <td>5</td>\n",
       "    </tr>\n",
       "    <tr>\n",
       "      <th>10</th>\n",
       "      <td>Services</td>\n",
       "      <td>28</td>\n",
       "    </tr>\n",
       "    <tr>\n",
       "      <th>11</th>\n",
       "      <td>Hardware</td>\n",
       "      <td>2</td>\n",
       "    </tr>\n",
       "    <tr>\n",
       "      <th>12</th>\n",
       "      <td>Sports</td>\n",
       "      <td>7</td>\n",
       "    </tr>\n",
       "    <tr>\n",
       "      <th>13</th>\n",
       "      <td>Liquor/Beverages</td>\n",
       "      <td>7</td>\n",
       "    </tr>\n",
       "    <tr>\n",
       "      <th>14</th>\n",
       "      <td>Entertainment</td>\n",
       "      <td>2</td>\n",
       "    </tr>\n",
       "    <tr>\n",
       "      <th>15</th>\n",
       "      <td>Furnishing/Household</td>\n",
       "      <td>13</td>\n",
       "    </tr>\n",
       "  </tbody>\n",
       "</table>\n",
       "</div>"
      ],
      "text/plain": [
       "                        Industry  count\n",
       "0                           Food     82\n",
       "1   Vehicles/Electrical Vehicles     13\n",
       "2                 Beauty/Fashion     58\n",
       "3                      Education      9\n",
       "4                    Agriculture      3\n",
       "5                 Medical/Health     23\n",
       "6                  Manufacturing     38\n",
       "7            Technology/Software     26\n",
       "8                    Electronics      4\n",
       "9                    Animal/Pets      5\n",
       "10                      Services     28\n",
       "11                      Hardware      2\n",
       "12                        Sports      7\n",
       "13              Liquor/Beverages      7\n",
       "14                 Entertainment      2\n",
       "15          Furnishing/Household     13"
      ]
     },
     "execution_count": 52,
     "metadata": {},
     "output_type": "execute_result"
    }
   ],
   "source": [
    "# Using valu count function for Industry wise data values.\n",
    "g2=df.Industry.value_counts(sort=False).reset_index()\n",
    "g2"
   ]
  },
  {
   "cell_type": "code",
   "execution_count": 54,
   "id": "3cf822ed",
   "metadata": {},
   "outputs": [
    {
     "data": {
      "text/plain": [
       "<Figure size 504x360 with 0 Axes>"
      ]
     },
     "metadata": {},
     "output_type": "display_data"
    },
    {
     "data": {
      "image/png": "[encoded data removed]",
      "text/plain": [
       "<Figure size 1080x1080 with 1 Axes>"
      ]
     },
     "metadata": {},
     "output_type": "display_data"
    }
   ],
   "source": [
    "# Plotting the data in g2 in horizontal bar format.\n",
    "plt.figure(figsize=(7,5))\n",
    "# plt.barh('index','Industry',data=g2)\n",
    "g2.plot(kind='barh')\n",
    "plt.xlabel('Count')\n",
    "plt.grid(True)\n",
    "plt.ylabel('Indstry of startup')\n",
    "plt.title('Industry wise startup')\n",
    "plt.show()"
   ]
  },
  {
   "cell_type": "code",
   "execution_count": 55,
   "id": "047285b6",
   "metadata": {},
   "outputs": [
    {
     "data": {
      "image/png": "[encoded data removed]",
      "text/plain": [
       "<Figure size 1080x1080 with 9 Axes>"
      ]
     },
     "metadata": {},
     "output_type": "display_data"
    }
   ],
   "source": [
    "plt.rcParams['figure.figsize']=[15,15]\n",
    "plt.rcParams['figure.autolayout']= True\n",
    "df1.hist()\n",
    "plt.show()"
   ]
  },
  {
   "cell_type": "code",
   "execution_count": 56,
   "id": "e91d1d2a",
   "metadata": {},
   "outputs": [],
   "source": [
    "# Replacing Null values in Yearly Revenue columns with mean value.\n",
    "df['Yearly Revenue'].fillna(df['Yearly Revenue'].mean(),inplace=True)"
   ]
  },
  {
   "cell_type": "code",
   "execution_count": 57,
   "id": "168dc96d",
   "metadata": {},
   "outputs": [
    {
     "data": {
      "text/plain": [
       "Season Number                0\n",
       "Season Start                 0\n",
       "Season End                   0\n",
       "Episode Number               0\n",
       "Episode Title                0\n",
       "                          ... \n",
       "Amit Debt Amount           316\n",
       "Guest Investment Amount    318\n",
       "Guest Investment Equity    318\n",
       "Guest Debt Amount          318\n",
       "Guest Name                 318\n",
       "Length: 64, dtype: int64"
      ]
     },
     "execution_count": 57,
     "metadata": {},
     "output_type": "execute_result"
    }
   ],
   "source": [
    "df.isnull().sum()"
   ]
  },
  {
   "cell_type": "code",
   "execution_count": 58,
   "id": "6785967c",
   "metadata": {},
   "outputs": [
    {
     "data": {
      "text/html": [
       "<div>\n",
       "<style scoped>\n",
       "    .dataframe tbody tr th:only-of-type {\n",
       "        vertical-align: middle;\n",
       "    }\n",
       "\n",
       "    .dataframe tbody tr th {\n",
       "        vertical-align: top;\n",
       "    }\n",
       "\n",
       "    .dataframe thead th {\n",
       "        text-align: right;\n",
       "    }\n",
       "</style>\n",
       "<table border=\"1\" class=\"dataframe\">\n",
       "  <thead>\n",
       "    <tr style=\"text-align: right;\">\n",
       "      <th></th>\n",
       "      <th>Startup Name</th>\n",
       "      <th>Yearly Revenue</th>\n",
       "    </tr>\n",
       "  </thead>\n",
       "  <tbody>\n",
       "    <tr>\n",
       "      <th>0</th>\n",
       "      <td>ABCSports&amp;Fitness</td>\n",
       "      <td>355.947761</td>\n",
       "    </tr>\n",
       "    <tr>\n",
       "      <th>1</th>\n",
       "      <td>ARRCOATSurfaceTextures</td>\n",
       "      <td>355.947761</td>\n",
       "    </tr>\n",
       "    <tr>\n",
       "      <th>2</th>\n",
       "      <td>ATMOSPHERE</td>\n",
       "      <td>355.947761</td>\n",
       "    </tr>\n",
       "    <tr>\n",
       "      <th>3</th>\n",
       "      <td>Aadvik</td>\n",
       "      <td>720.000000</td>\n",
       "    </tr>\n",
       "    <tr>\n",
       "      <th>4</th>\n",
       "      <td>AasVidyalaya</td>\n",
       "      <td>150.000000</td>\n",
       "    </tr>\n",
       "    <tr>\n",
       "      <th>...</th>\n",
       "      <td>...</td>\n",
       "      <td>...</td>\n",
       "    </tr>\n",
       "    <tr>\n",
       "      <th>315</th>\n",
       "      <td>nawgati</td>\n",
       "      <td>355.947761</td>\n",
       "    </tr>\n",
       "    <tr>\n",
       "      <th>316</th>\n",
       "      <td>neuphony</td>\n",
       "      <td>-1.000000</td>\n",
       "    </tr>\n",
       "    <tr>\n",
       "      <th>317</th>\n",
       "      <td>oyehappy</td>\n",
       "      <td>1005.000000</td>\n",
       "    </tr>\n",
       "    <tr>\n",
       "      <th>318</th>\n",
       "      <td>qZenseLabs</td>\n",
       "      <td>25.000000</td>\n",
       "    </tr>\n",
       "    <tr>\n",
       "      <th>319</th>\n",
       "      <td>uBreathe</td>\n",
       "      <td>355.947761</td>\n",
       "    </tr>\n",
       "  </tbody>\n",
       "</table>\n",
       "<p>320 rows × 2 columns</p>\n",
       "</div>"
      ],
      "text/plain": [
       "               Startup Name  Yearly Revenue\n",
       "0         ABCSports&Fitness      355.947761\n",
       "1    ARRCOATSurfaceTextures      355.947761\n",
       "2                ATMOSPHERE      355.947761\n",
       "3                    Aadvik      720.000000\n",
       "4              AasVidyalaya      150.000000\n",
       "..                      ...             ...\n",
       "315                 nawgati      355.947761\n",
       "316                neuphony       -1.000000\n",
       "317                oyehappy     1005.000000\n",
       "318              qZenseLabs       25.000000\n",
       "319                uBreathe      355.947761\n",
       "\n",
       "[320 rows x 2 columns]"
      ]
     },
     "execution_count": 58,
     "metadata": {},
     "output_type": "execute_result"
    }
   ],
   "source": [
    "g3=df.groupby('Startup Name')['Yearly Revenue'].sum().reset_index()\n",
    "g3"
   ]
  },
  {
   "cell_type": "code",
   "execution_count": 59,
   "id": "df32d636",
   "metadata": {},
   "outputs": [
    {
     "data": {
      "text/html": [
       "<div>\n",
       "<style scoped>\n",
       "    .dataframe tbody tr th:only-of-type {\n",
       "        vertical-align: middle;\n",
       "    }\n",
       "\n",
       "    .dataframe tbody tr th {\n",
       "        vertical-align: top;\n",
       "    }\n",
       "\n",
       "    .dataframe thead th {\n",
       "        text-align: right;\n",
       "    }\n",
       "</style>\n",
       "<table border=\"1\" class=\"dataframe\">\n",
       "  <thead>\n",
       "    <tr style=\"text-align: right;\">\n",
       "      <th></th>\n",
       "      <th>Yearly Revenue</th>\n",
       "    </tr>\n",
       "  </thead>\n",
       "  <tbody>\n",
       "    <tr>\n",
       "      <th>count</th>\n",
       "      <td>320.000000</td>\n",
       "    </tr>\n",
       "    <tr>\n",
       "      <th>mean</th>\n",
       "      <td>355.947761</td>\n",
       "    </tr>\n",
       "    <tr>\n",
       "      <th>std</th>\n",
       "      <td>593.326066</td>\n",
       "    </tr>\n",
       "    <tr>\n",
       "      <th>min</th>\n",
       "      <td>-1.000000</td>\n",
       "    </tr>\n",
       "    <tr>\n",
       "      <th>25%</th>\n",
       "      <td>115.750000</td>\n",
       "    </tr>\n",
       "    <tr>\n",
       "      <th>50%</th>\n",
       "      <td>355.947761</td>\n",
       "    </tr>\n",
       "    <tr>\n",
       "      <th>75%</th>\n",
       "      <td>355.947761</td>\n",
       "    </tr>\n",
       "    <tr>\n",
       "      <th>max</th>\n",
       "      <td>7200.000000</td>\n",
       "    </tr>\n",
       "  </tbody>\n",
       "</table>\n",
       "</div>"
      ],
      "text/plain": [
       "       Yearly Revenue\n",
       "count      320.000000\n",
       "mean       355.947761\n",
       "std        593.326066\n",
       "min         -1.000000\n",
       "25%        115.750000\n",
       "50%        355.947761\n",
       "75%        355.947761\n",
       "max       7200.000000"
      ]
     },
     "execution_count": 59,
     "metadata": {},
     "output_type": "execute_result"
    }
   ],
   "source": [
    "g3.describe()"
   ]
  },
  {
   "cell_type": "code",
   "execution_count": 60,
   "id": "05e0841a",
   "metadata": {},
   "outputs": [
    {
     "data": {
      "text/plain": [
       "Startup Name      23\n",
       "Yearly Revenue    23\n",
       "dtype: int64"
      ]
     },
     "execution_count": 60,
     "metadata": {},
     "output_type": "execute_result"
    }
   ],
   "source": [
    "g4=g3[g3['Yearly Revenue']>400]\n",
    "g4.count()"
   ]
  },
  {
   "cell_type": "code",
   "execution_count": 61,
   "id": "3125d721",
   "metadata": {},
   "outputs": [
    {
     "data": {
      "text/html": [
       "<div>\n",
       "<style scoped>\n",
       "    .dataframe tbody tr th:only-of-type {\n",
       "        vertical-align: middle;\n",
       "    }\n",
       "\n",
       "    .dataframe tbody tr th {\n",
       "        vertical-align: top;\n",
       "    }\n",
       "\n",
       "    .dataframe thead th {\n",
       "        text-align: right;\n",
       "    }\n",
       "</style>\n",
       "<table border=\"1\" class=\"dataframe\">\n",
       "  <thead>\n",
       "    <tr style=\"text-align: right;\">\n",
       "      <th></th>\n",
       "      <th>index</th>\n",
       "      <th>Startup Name</th>\n",
       "      <th>Yearly Revenue</th>\n",
       "    </tr>\n",
       "  </thead>\n",
       "  <tbody>\n",
       "    <tr>\n",
       "      <th>0</th>\n",
       "      <td>3</td>\n",
       "      <td>Aadvik</td>\n",
       "      <td>720.0</td>\n",
       "    </tr>\n",
       "    <tr>\n",
       "      <th>1</th>\n",
       "      <td>7</td>\n",
       "      <td>Alpino</td>\n",
       "      <td>1000.0</td>\n",
       "    </tr>\n",
       "    <tr>\n",
       "      <th>2</th>\n",
       "      <td>32</td>\n",
       "      <td>BlueTea</td>\n",
       "      <td>1000.0</td>\n",
       "    </tr>\n",
       "    <tr>\n",
       "      <th>3</th>\n",
       "      <td>63</td>\n",
       "      <td>DesmondJi</td>\n",
       "      <td>1200.0</td>\n",
       "    </tr>\n",
       "    <tr>\n",
       "      <th>4</th>\n",
       "      <td>64</td>\n",
       "      <td>Devnagri</td>\n",
       "      <td>500.0</td>\n",
       "    </tr>\n",
       "    <tr>\n",
       "      <th>5</th>\n",
       "      <td>75</td>\n",
       "      <td>Eume</td>\n",
       "      <td>1200.0</td>\n",
       "    </tr>\n",
       "    <tr>\n",
       "      <th>6</th>\n",
       "      <td>90</td>\n",
       "      <td>FrenchCrown</td>\n",
       "      <td>7200.0</td>\n",
       "    </tr>\n",
       "    <tr>\n",
       "      <th>7</th>\n",
       "      <td>107</td>\n",
       "      <td>GuardianGears</td>\n",
       "      <td>2500.0</td>\n",
       "    </tr>\n",
       "    <tr>\n",
       "      <th>8</th>\n",
       "      <td>108</td>\n",
       "      <td>GunjanAppsStudios</td>\n",
       "      <td>2400.0</td>\n",
       "    </tr>\n",
       "    <tr>\n",
       "      <th>9</th>\n",
       "      <td>110</td>\n",
       "      <td>HammerLifestyle</td>\n",
       "      <td>1000.0</td>\n",
       "    </tr>\n",
       "    <tr>\n",
       "      <th>10</th>\n",
       "      <td>180</td>\n",
       "      <td>NeoMotion</td>\n",
       "      <td>470.0</td>\n",
       "    </tr>\n",
       "    <tr>\n",
       "      <th>11</th>\n",
       "      <td>183</td>\n",
       "      <td>NishHair</td>\n",
       "      <td>670.0</td>\n",
       "    </tr>\n",
       "    <tr>\n",
       "      <th>12</th>\n",
       "      <td>208</td>\n",
       "      <td>PlayBoxTV</td>\n",
       "      <td>1020.0</td>\n",
       "    </tr>\n",
       "    <tr>\n",
       "      <th>13</th>\n",
       "      <td>216</td>\n",
       "      <td>RaisingSuperstars</td>\n",
       "      <td>1300.0</td>\n",
       "    </tr>\n",
       "    <tr>\n",
       "      <th>14</th>\n",
       "      <td>222</td>\n",
       "      <td>Rubans</td>\n",
       "      <td>5100.0</td>\n",
       "    </tr>\n",
       "    <tr>\n",
       "      <th>15</th>\n",
       "      <td>230</td>\n",
       "      <td>ScrapUncle</td>\n",
       "      <td>600.0</td>\n",
       "    </tr>\n",
       "    <tr>\n",
       "      <th>16</th>\n",
       "      <td>233</td>\n",
       "      <td>ShadesofSpring</td>\n",
       "      <td>900.0</td>\n",
       "    </tr>\n",
       "    <tr>\n",
       "      <th>17</th>\n",
       "      <td>246</td>\n",
       "      <td>SpiceStory</td>\n",
       "      <td>410.0</td>\n",
       "    </tr>\n",
       "    <tr>\n",
       "      <th>18</th>\n",
       "      <td>251</td>\n",
       "      <td>StyloBug</td>\n",
       "      <td>1400.0</td>\n",
       "    </tr>\n",
       "    <tr>\n",
       "      <th>19</th>\n",
       "      <td>258</td>\n",
       "      <td>TagzFoods</td>\n",
       "      <td>700.0</td>\n",
       "    </tr>\n",
       "    <tr>\n",
       "      <th>20</th>\n",
       "      <td>277</td>\n",
       "      <td>Toyshine</td>\n",
       "      <td>4500.0</td>\n",
       "    </tr>\n",
       "    <tr>\n",
       "      <th>21</th>\n",
       "      <td>282</td>\n",
       "      <td>UnStop</td>\n",
       "      <td>1600.0</td>\n",
       "    </tr>\n",
       "    <tr>\n",
       "      <th>22</th>\n",
       "      <td>317</td>\n",
       "      <td>oyehappy</td>\n",
       "      <td>1005.0</td>\n",
       "    </tr>\n",
       "  </tbody>\n",
       "</table>\n",
       "</div>"
      ],
      "text/plain": [
       "    index       Startup Name  Yearly Revenue\n",
       "0       3             Aadvik           720.0\n",
       "1       7             Alpino          1000.0\n",
       "2      32            BlueTea          1000.0\n",
       "3      63          DesmondJi          1200.0\n",
       "4      64           Devnagri           500.0\n",
       "5      75               Eume          1200.0\n",
       "6      90        FrenchCrown          7200.0\n",
       "7     107      GuardianGears          2500.0\n",
       "8     108  GunjanAppsStudios          2400.0\n",
       "9     110    HammerLifestyle          1000.0\n",
       "10    180          NeoMotion           470.0\n",
       "11    183           NishHair           670.0\n",
       "12    208          PlayBoxTV          1020.0\n",
       "13    216  RaisingSuperstars          1300.0\n",
       "14    222             Rubans          5100.0\n",
       "15    230         ScrapUncle           600.0\n",
       "16    233     ShadesofSpring           900.0\n",
       "17    246         SpiceStory           410.0\n",
       "18    251           StyloBug          1400.0\n",
       "19    258          TagzFoods           700.0\n",
       "20    277           Toyshine          4500.0\n",
       "21    282             UnStop          1600.0\n",
       "22    317           oyehappy          1005.0"
      ]
     },
     "execution_count": 61,
     "metadata": {},
     "output_type": "execute_result"
    }
   ],
   "source": [
    "g4.reset_index()"
   ]
  },
  {
   "cell_type": "code",
   "execution_count": 62,
   "id": "095ce006",
   "metadata": {},
   "outputs": [
    {
     "data": {
      "image/png": "[encoded data removed]",
      "text/plain": [
       "<Figure size 504x504 with 1 Axes>"
      ]
     },
     "metadata": {},
     "output_type": "display_data"
    }
   ],
   "source": [
    "plt.figure(figsize=(7,7))\n",
    "plt.boxplot(g4['Yearly Revenue'])\n",
    "plt.grid()\n",
    "plt.show()"
   ]
  },
  {
   "cell_type": "code",
   "execution_count": 63,
   "id": "15858369",
   "metadata": {},
   "outputs": [
    {
     "data": {
      "image/png": "[encoded data removed]",
      "text/plain": [
       "<Figure size 504x504 with 1 Axes>"
      ]
     },
     "metadata": {},
     "output_type": "display_data"
    }
   ],
   "source": [
    "plt.figure(figsize=(7,7))\n",
    "plt.barh('Startup Name','Yearly Revenue',data=g4)\n",
    "plt.grid(True)\n",
    "plt.xlabel('Startup Name')\n",
    "plt.ylabel('Yearly Revenue')\n",
    "plt.title('Yearly revenue of startups greater than 400L')\n",
    "plt.show()"
   ]
  },
  {
   "cell_type": "code",
   "execution_count": 64,
   "id": "4c4e24fb",
   "metadata": {},
   "outputs": [],
   "source": [
    "g5=g3[g3['Yearly Revenue']>1]"
   ]
  },
  {
   "cell_type": "code",
   "execution_count": 65,
   "id": "b894a253",
   "metadata": {},
   "outputs": [
    {
     "data": {
      "image/png": "[encoded data removed]",
      "text/plain": [
       "<Figure size 1080x1080 with 1 Axes>"
      ]
     },
     "metadata": {},
     "output_type": "display_data"
    }
   ],
   "source": [
    "plt.violinplot(g5['Yearly Revenue'])\n",
    "plt.grid()\n",
    "plt.show()"
   ]
  },
  {
   "cell_type": "code",
   "execution_count": 66,
   "id": "01620228",
   "metadata": {},
   "outputs": [
    {
     "data": {
      "text/plain": [
       "Pitchers Average Age\n",
       "Middle    231\n",
       "Young      88\n",
       "Old         1\n",
       "Name: count, dtype: int64"
      ]
     },
     "execution_count": 66,
     "metadata": {},
     "output_type": "execute_result"
    }
   ],
   "source": [
    "# Using value counts of Pitcher average age and saving it in age variable,\n",
    "age=df['Pitchers Average Age'].value_counts()\n",
    "age"
   ]
  },
  {
   "cell_type": "code",
   "execution_count": 67,
   "id": "5e1e989c",
   "metadata": {},
   "outputs": [
    {
     "data": {
      "text/plain": [
       "<Axes: title={'center': 'Pitcher average age'}, xlabel='Pitchers age Group', ylabel='Count'>"
      ]
     },
     "execution_count": 67,
     "metadata": {},
     "output_type": "execute_result"
    },
    {
     "data": {
      "image/png": "[encoded data removed]",
      "text/plain": [
       "<Figure size 360x360 with 1 Axes>"
      ]
     },
     "metadata": {},
     "output_type": "display_data"
    }
   ],
   "source": [
    "age.plot(figsize=(5,5),kind=\"bar\",title=\"Pitcher average age\",grid=True,xlabel=\"Pitchers age Group\",ylabel=\"Count\")"
   ]
  },
  {
   "cell_type": "code",
   "execution_count": 68,
   "id": "1b1c497d",
   "metadata": {},
   "outputs": [
    {
     "data": {
      "text/plain": [
       "Business Description\n",
       "Healthy Snacks                               2\n",
       "Frozen Momos                                 1\n",
       "Portl studio gym                             1\n",
       "Custom Hair Products                         1\n",
       "Helpers homemakers for your home             1\n",
       "                                            ..\n",
       "Portable ophthalmic vision devices           1\n",
       "Rewards App                                  1\n",
       "Technology layered advertisement services    1\n",
       "Proposal Solutions                           1\n",
       "Girls Dresses Online                         1\n",
       "Name: count, Length: 319, dtype: int64"
      ]
     },
     "execution_count": 68,
     "metadata": {},
     "output_type": "execute_result"
    }
   ],
   "source": [
    "df[\"Business Description\"].value_counts()"
   ]
  },
  {
   "cell_type": "code",
   "execution_count": 69,
   "id": "b3774b66",
   "metadata": {},
   "outputs": [
    {
     "data": {
      "text/plain": [
       "Season Number\n",
       "1    37\n",
       "2    51\n",
       "Name: Episode Number, dtype: int64"
      ]
     },
     "execution_count": 69,
     "metadata": {},
     "output_type": "execute_result"
    }
   ],
   "source": [
    "season=df.groupby(df[\"Season Number\"])[\"Episode Number\"].nunique()\n",
    "season"
   ]
  },
  {
   "cell_type": "code",
   "execution_count": 70,
   "id": "78ad0bc4",
   "metadata": {},
   "outputs": [
    {
     "data": {
      "text/plain": [
       "<Axes: title={'center': 'Season wise count of episodes'}, xlabel='Season Number'>"
      ]
     },
     "execution_count": 70,
     "metadata": {},
     "output_type": "execute_result"
    },
    {
     "data": {
      "image/png": "[encoded data removed]",
      "text/plain": [
       "<Figure size 504x504 with 1 Axes>"
      ]
     },
     "metadata": {},
     "output_type": "display_data"
    }
   ],
   "source": [
    "season.plot(figsize=(7,7),kind=\"bar\",title=\"Season wise count of episodes\")"
   ]
  }
 ],
 "metadata": {
  "kernelspec": {
   "display_name": "Python 3 (ipykernel)",
   "language": "python",
   "name": "python3"
  },
  "language_info": {
   "codemirror_mode": {
    "name": "ipython",
    "version": 3
   },
   "file_extension": ".py",
   "mimetype": "text/x-python",
   "name": "python",
   "nbconvert_exporter": "python",
   "pygments_lexer": "ipython3",
   "version": "3.9.12"
  }
 },
 "nbformat": 4,
 "nbformat_minor": 5
}
