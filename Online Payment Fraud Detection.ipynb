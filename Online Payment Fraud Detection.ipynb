{
 "cells": [
  {
   "cell_type": "code",
   "execution_count": 3,
   "id": "fdd1e503",
   "metadata": {},
   "outputs": [],
   "source": [
    "import pandas as pd\n",
    "import numpy as np\n",
    "data = pd.read_csv(\"C:/Users/Chandrashekhar gupta/OneDrive/Documents/Credit.csv\")"
   ]
  },
  {
   "cell_type": "code",
   "execution_count": 4,
   "id": "42b1d7b1",
   "metadata": {},
   "outputs": [
    {
     "data": {
      "text/html": [
       "<div>\n",
       "<style scoped>\n",
       "    .dataframe tbody tr th:only-of-type {\n",
       "        vertical-align: middle;\n",
       "    }\n",
       "\n",
       "    .dataframe tbody tr th {\n",
       "        vertical-align: top;\n",
       "    }\n",
       "\n",
       "    .dataframe thead th {\n",
       "        text-align: right;\n",
       "    }\n",
       "</style>\n",
       "<table border=\"1\" class=\"dataframe\">\n",
       "  <thead>\n",
       "    <tr style=\"text-align: right;\">\n",
       "      <th></th>\n",
       "      <th>step</th>\n",
       "      <th>type</th>\n",
       "      <th>amount</th>\n",
       "      <th>nameOrig</th>\n",
       "      <th>oldbalanceOrg</th>\n",
       "      <th>newbalanceOrig</th>\n",
       "      <th>nameDest</th>\n",
       "      <th>oldbalanceDest</th>\n",
       "      <th>newbalanceDest</th>\n",
       "      <th>isFraud</th>\n",
       "      <th>isFlaggedFraud</th>\n",
       "    </tr>\n",
       "  </thead>\n",
       "  <tbody>\n",
       "    <tr>\n",
       "      <th>0</th>\n",
       "      <td>1</td>\n",
       "      <td>PAYMENT</td>\n",
       "      <td>9839.64</td>\n",
       "      <td>C1231006815</td>\n",
       "      <td>170136.0</td>\n",
       "      <td>160296.36</td>\n",
       "      <td>M1979787155</td>\n",
       "      <td>0.0</td>\n",
       "      <td>0.0</td>\n",
       "      <td>0</td>\n",
       "      <td>0</td>\n",
       "    </tr>\n",
       "    <tr>\n",
       "      <th>1</th>\n",
       "      <td>1</td>\n",
       "      <td>PAYMENT</td>\n",
       "      <td>1864.28</td>\n",
       "      <td>C1666544295</td>\n",
       "      <td>21249.0</td>\n",
       "      <td>19384.72</td>\n",
       "      <td>M2044282225</td>\n",
       "      <td>0.0</td>\n",
       "      <td>0.0</td>\n",
       "      <td>0</td>\n",
       "      <td>0</td>\n",
       "    </tr>\n",
       "    <tr>\n",
       "      <th>2</th>\n",
       "      <td>1</td>\n",
       "      <td>TRANSFER</td>\n",
       "      <td>181.00</td>\n",
       "      <td>C1305486145</td>\n",
       "      <td>181.0</td>\n",
       "      <td>0.00</td>\n",
       "      <td>C553264065</td>\n",
       "      <td>0.0</td>\n",
       "      <td>0.0</td>\n",
       "      <td>1</td>\n",
       "      <td>0</td>\n",
       "    </tr>\n",
       "    <tr>\n",
       "      <th>3</th>\n",
       "      <td>1</td>\n",
       "      <td>CASH_OUT</td>\n",
       "      <td>181.00</td>\n",
       "      <td>C840083671</td>\n",
       "      <td>181.0</td>\n",
       "      <td>0.00</td>\n",
       "      <td>C38997010</td>\n",
       "      <td>21182.0</td>\n",
       "      <td>0.0</td>\n",
       "      <td>1</td>\n",
       "      <td>0</td>\n",
       "    </tr>\n",
       "    <tr>\n",
       "      <th>4</th>\n",
       "      <td>1</td>\n",
       "      <td>PAYMENT</td>\n",
       "      <td>11668.14</td>\n",
       "      <td>C2048537720</td>\n",
       "      <td>41554.0</td>\n",
       "      <td>29885.86</td>\n",
       "      <td>M1230701703</td>\n",
       "      <td>0.0</td>\n",
       "      <td>0.0</td>\n",
       "      <td>0</td>\n",
       "      <td>0</td>\n",
       "    </tr>\n",
       "  </tbody>\n",
       "</table>\n",
       "</div>"
      ],
      "text/plain": [
       "   step      type    amount     nameOrig  oldbalanceOrg  newbalanceOrig   \n",
       "0     1   PAYMENT   9839.64  C1231006815       170136.0       160296.36  \\\n",
       "1     1   PAYMENT   1864.28  C1666544295        21249.0        19384.72   \n",
       "2     1  TRANSFER    181.00  C1305486145          181.0            0.00   \n",
       "3     1  CASH_OUT    181.00   C840083671          181.0            0.00   \n",
       "4     1   PAYMENT  11668.14  C2048537720        41554.0        29885.86   \n",
       "\n",
       "      nameDest  oldbalanceDest  newbalanceDest  isFraud  isFlaggedFraud  \n",
       "0  M1979787155             0.0             0.0        0               0  \n",
       "1  M2044282225             0.0             0.0        0               0  \n",
       "2   C553264065             0.0             0.0        1               0  \n",
       "3    C38997010         21182.0             0.0        1               0  \n",
       "4  M1230701703             0.0             0.0        0               0  "
      ]
     },
     "execution_count": 4,
     "metadata": {},
     "output_type": "execute_result"
    }
   ],
   "source": [
    "data.head()"
   ]
  },
  {
   "cell_type": "code",
   "execution_count": 5,
   "id": "81d1b03d",
   "metadata": {},
   "outputs": [
    {
     "data": {
      "text/html": [
       "<div>\n",
       "<style scoped>\n",
       "    .dataframe tbody tr th:only-of-type {\n",
       "        vertical-align: middle;\n",
       "    }\n",
       "\n",
       "    .dataframe tbody tr th {\n",
       "        vertical-align: top;\n",
       "    }\n",
       "\n",
       "    .dataframe thead th {\n",
       "        text-align: right;\n",
       "    }\n",
       "</style>\n",
       "<table border=\"1\" class=\"dataframe\">\n",
       "  <thead>\n",
       "    <tr style=\"text-align: right;\">\n",
       "      <th></th>\n",
       "      <th>step</th>\n",
       "      <th>amount</th>\n",
       "      <th>oldbalanceOrg</th>\n",
       "      <th>newbalanceOrig</th>\n",
       "      <th>oldbalanceDest</th>\n",
       "      <th>newbalanceDest</th>\n",
       "      <th>isFraud</th>\n",
       "      <th>isFlaggedFraud</th>\n",
       "    </tr>\n",
       "  </thead>\n",
       "  <tbody>\n",
       "    <tr>\n",
       "      <th>count</th>\n",
       "      <td>1.048575e+06</td>\n",
       "      <td>1.048575e+06</td>\n",
       "      <td>1.048575e+06</td>\n",
       "      <td>1.048575e+06</td>\n",
       "      <td>1.048575e+06</td>\n",
       "      <td>1.048575e+06</td>\n",
       "      <td>1.048575e+06</td>\n",
       "      <td>1048575.0</td>\n",
       "    </tr>\n",
       "    <tr>\n",
       "      <th>mean</th>\n",
       "      <td>2.696617e+01</td>\n",
       "      <td>1.586670e+05</td>\n",
       "      <td>8.740095e+05</td>\n",
       "      <td>8.938089e+05</td>\n",
       "      <td>9.781600e+05</td>\n",
       "      <td>1.114198e+06</td>\n",
       "      <td>1.089097e-03</td>\n",
       "      <td>0.0</td>\n",
       "    </tr>\n",
       "    <tr>\n",
       "      <th>std</th>\n",
       "      <td>1.562325e+01</td>\n",
       "      <td>2.649409e+05</td>\n",
       "      <td>2.971751e+06</td>\n",
       "      <td>3.008271e+06</td>\n",
       "      <td>2.296780e+06</td>\n",
       "      <td>2.416593e+06</td>\n",
       "      <td>3.298351e-02</td>\n",
       "      <td>0.0</td>\n",
       "    </tr>\n",
       "    <tr>\n",
       "      <th>min</th>\n",
       "      <td>1.000000e+00</td>\n",
       "      <td>1.000000e-01</td>\n",
       "      <td>0.000000e+00</td>\n",
       "      <td>0.000000e+00</td>\n",
       "      <td>0.000000e+00</td>\n",
       "      <td>0.000000e+00</td>\n",
       "      <td>0.000000e+00</td>\n",
       "      <td>0.0</td>\n",
       "    </tr>\n",
       "    <tr>\n",
       "      <th>25%</th>\n",
       "      <td>1.500000e+01</td>\n",
       "      <td>1.214907e+04</td>\n",
       "      <td>0.000000e+00</td>\n",
       "      <td>0.000000e+00</td>\n",
       "      <td>0.000000e+00</td>\n",
       "      <td>0.000000e+00</td>\n",
       "      <td>0.000000e+00</td>\n",
       "      <td>0.0</td>\n",
       "    </tr>\n",
       "    <tr>\n",
       "      <th>50%</th>\n",
       "      <td>2.000000e+01</td>\n",
       "      <td>7.634333e+04</td>\n",
       "      <td>1.600200e+04</td>\n",
       "      <td>0.000000e+00</td>\n",
       "      <td>1.263772e+05</td>\n",
       "      <td>2.182604e+05</td>\n",
       "      <td>0.000000e+00</td>\n",
       "      <td>0.0</td>\n",
       "    </tr>\n",
       "    <tr>\n",
       "      <th>75%</th>\n",
       "      <td>3.900000e+01</td>\n",
       "      <td>2.137619e+05</td>\n",
       "      <td>1.366420e+05</td>\n",
       "      <td>1.746000e+05</td>\n",
       "      <td>9.159235e+05</td>\n",
       "      <td>1.149808e+06</td>\n",
       "      <td>0.000000e+00</td>\n",
       "      <td>0.0</td>\n",
       "    </tr>\n",
       "    <tr>\n",
       "      <th>max</th>\n",
       "      <td>9.500000e+01</td>\n",
       "      <td>1.000000e+07</td>\n",
       "      <td>3.890000e+07</td>\n",
       "      <td>3.890000e+07</td>\n",
       "      <td>4.210000e+07</td>\n",
       "      <td>4.220000e+07</td>\n",
       "      <td>1.000000e+00</td>\n",
       "      <td>0.0</td>\n",
       "    </tr>\n",
       "  </tbody>\n",
       "</table>\n",
       "</div>"
      ],
      "text/plain": [
       "               step        amount  oldbalanceOrg  newbalanceOrig   \n",
       "count  1.048575e+06  1.048575e+06   1.048575e+06    1.048575e+06  \\\n",
       "mean   2.696617e+01  1.586670e+05   8.740095e+05    8.938089e+05   \n",
       "std    1.562325e+01  2.649409e+05   2.971751e+06    3.008271e+06   \n",
       "min    1.000000e+00  1.000000e-01   0.000000e+00    0.000000e+00   \n",
       "25%    1.500000e+01  1.214907e+04   0.000000e+00    0.000000e+00   \n",
       "50%    2.000000e+01  7.634333e+04   1.600200e+04    0.000000e+00   \n",
       "75%    3.900000e+01  2.137619e+05   1.366420e+05    1.746000e+05   \n",
       "max    9.500000e+01  1.000000e+07   3.890000e+07    3.890000e+07   \n",
       "\n",
       "       oldbalanceDest  newbalanceDest       isFraud  isFlaggedFraud  \n",
       "count    1.048575e+06    1.048575e+06  1.048575e+06       1048575.0  \n",
       "mean     9.781600e+05    1.114198e+06  1.089097e-03             0.0  \n",
       "std      2.296780e+06    2.416593e+06  3.298351e-02             0.0  \n",
       "min      0.000000e+00    0.000000e+00  0.000000e+00             0.0  \n",
       "25%      0.000000e+00    0.000000e+00  0.000000e+00             0.0  \n",
       "50%      1.263772e+05    2.182604e+05  0.000000e+00             0.0  \n",
       "75%      9.159235e+05    1.149808e+06  0.000000e+00             0.0  \n",
       "max      4.210000e+07    4.220000e+07  1.000000e+00             0.0  "
      ]
     },
     "execution_count": 5,
     "metadata": {},
     "output_type": "execute_result"
    }
   ],
   "source": [
    "data.describe()"
   ]
  },
  {
   "cell_type": "code",
   "execution_count": 6,
   "id": "1fdd061f",
   "metadata": {},
   "outputs": [],
   "source": [
    "import matplotlib.pyplot as plt\n",
    "import seaborn as sns\n",
    "%matplotlib inline"
   ]
  },
  {
   "cell_type": "code",
   "execution_count": 7,
   "id": "e4b09b89",
   "metadata": {},
   "outputs": [],
   "source": [
    "feature=['step','amount','oldbalanceOrg','newbalanceOrig','oldbalanceDest','newbalanceDest']"
   ]
  },
  {
   "cell_type": "code",
   "execution_count": 8,
   "id": "71531177",
   "metadata": {},
   "outputs": [
    {
     "data": {
      "image/png": "[encoded data removed]",
      "text/plain": [
       "<Figure size 864x432 with 1 Axes>"
      ]
     },
     "metadata": {
      "needs_background": "light"
     },
     "output_type": "display_data"
    },
    {
     "data": {
      "image/png": "[encoded data removed]",
      "text/plain": [
       "<Figure size 864x432 with 1 Axes>"
      ]
     },
     "metadata": {
      "needs_background": "light"
     },
     "output_type": "display_data"
    },
    {
     "data": {
      "image/png": "[encoded data removed]",
      "text/plain": [
       "<Figure size 864x432 with 1 Axes>"
      ]
     },
     "metadata": {
      "needs_background": "light"
     },
     "output_type": "display_data"
    },
    {
     "data": {
      "image/png": "[encoded data removed]",
      "text/plain": [
       "<Figure size 864x432 with 1 Axes>"
      ]
     },
     "metadata": {
      "needs_background": "light"
     },
     "output_type": "display_data"
    },
    {
     "data": {
      "image/png": "[encoded data removed]",
      "text/plain": [
       "<Figure size 864x432 with 1 Axes>"
      ]
     },
     "metadata": {
      "needs_background": "light"
     },
     "output_type": "display_data"
    },
    {
     "data": {
      "image/png": "[encoded data removed]",
      "text/plain": [
       "<Figure size 864x432 with 1 Axes>"
      ]
     },
     "metadata": {
      "needs_background": "light"
     },
     "output_type": "display_data"
    }
   ],
   "source": [
    "for i in feature:\n",
    "    plt.xlabel(i)\n",
    "    data[i].plot(kind='hist', bins=5, figsize=(12,6), facecolor='grey',edgecolor='black')\n",
    "    plt.show()"
   ]
  },
  {
   "cell_type": "code",
   "execution_count": 9,
   "id": "46603c51",
   "metadata": {},
   "outputs": [],
   "source": [
    "feature=['amount','oldbalanceOrg','newbalanceOrig','oldbalanceDest','newbalanceDest']"
   ]
  },
  {
   "cell_type": "code",
   "execution_count": 10,
   "id": "178a2ed6",
   "metadata": {},
   "outputs": [
    {
     "name": "stdout",
     "output_type": "stream",
     "text": [
      "amount\n",
      "4220.57\n",
      "373075.3779999999\n",
      "\n",
      "\n",
      "oldbalanceOrg\n",
      "0.0\n",
      "1924613.1739999996\n",
      "\n",
      "\n",
      "newbalanceOrig\n",
      "0.0\n",
      "2059503.9359999998\n",
      "\n",
      "\n",
      "oldbalanceDest\n",
      "0.0\n",
      "2721593.4459999995\n",
      "\n",
      "\n",
      "newbalanceDest\n",
      "0.0\n",
      "3102896.2\n",
      "\n",
      "\n"
     ]
    }
   ],
   "source": [
    "for i in feature:\n",
    "    print(i)\n",
    "    print(data[i].quantile(0.10))\n",
    "    print(data[i].quantile(0.90))\n",
    "\n",
    "    print('\\n')"
   ]
  },
  {
   "cell_type": "code",
   "execution_count": 11,
   "id": "345e727a",
   "metadata": {},
   "outputs": [],
   "source": [
    "feature=['amount','oldbalanceOrg','newbalanceOrig','oldbalanceDest','newbalanceDest']"
   ]
  },
  {
   "cell_type": "code",
   "execution_count": 12,
   "id": "c822cd04",
   "metadata": {},
   "outputs": [
    {
     "name": "stdout",
     "output_type": "stream",
     "text": [
      "Feature:  amount\n",
      "Skewness value:  0.7964930444208819\n",
      "\n",
      "\n",
      "Feature:  oldbalanceOrg\n",
      "Skewness value:  2.1881516694642875\n",
      "\n",
      "\n",
      "Feature:  newbalanceOrig\n",
      "Skewness value:  2.1770209559093807\n",
      "\n",
      "\n",
      "Feature:  oldbalanceDest\n",
      "Skewness value:  1.385454781137203\n",
      "\n",
      "\n",
      "Feature:  newbalanceDest\n",
      "Skewness value:  1.3046789943177446\n",
      "\n",
      "\n"
     ]
    }
   ],
   "source": [
    "for i in feature:\n",
    "    lower = data[i].quantile(0.10)\n",
    "    upper = data[i].quantile(0.90)\n",
    "    data[i] = np.where(data[i] <lower, lower,data[i])\n",
    "    data[i] = np.where(data[i] >upper, upper,data[i])\n",
    "    print('Feature: ',i)\n",
    "    print('Skewness value: ',data[i].skew())\n",
    "    print('\\n')"
   ]
  },
  {
   "cell_type": "code",
   "execution_count": 13,
   "id": "523a995c",
   "metadata": {},
   "outputs": [],
   "source": [
    "feature=['amount','oldbalanceOrg','newbalanceOrig','oldbalanceDest','newbalanceDest']"
   ]
  },
  {
   "cell_type": "code",
   "execution_count": 14,
   "id": "398f9061",
   "metadata": {},
   "outputs": [
    {
     "data": {
      "image/png": "[encoded data removed]",
      "text/plain": [
       "<Figure size 864x432 with 1 Axes>"
      ]
     },
     "metadata": {
      "needs_background": "light"
     },
     "output_type": "display_data"
    },
    {
     "data": {
      "image/png": "[encoded data removed]",
      "text/plain": [
       "<Figure size 864x432 with 1 Axes>"
      ]
     },
     "metadata": {
      "needs_background": "light"
     },
     "output_type": "display_data"
    },
    {
     "data": {
      "image/png": "[encoded data removed]",
      "text/plain": [
       "<Figure size 864x432 with 1 Axes>"
      ]
     },
     "metadata": {
      "needs_background": "light"
     },
     "output_type": "display_data"
    },
    {
     "data": {
      "image/png": "[encoded data removed]",
      "text/plain": [
       "<Figure size 864x432 with 1 Axes>"
      ]
     },
     "metadata": {
      "needs_background": "light"
     },
     "output_type": "display_data"
    },
    {
     "data": {
      "image/png": "[encoded data removed]",
      "text/plain": [
       "<Figure size 864x432 with 1 Axes>"
      ]
     },
     "metadata": {
      "needs_background": "light"
     },
     "output_type": "display_data"
    }
   ],
   "source": [
    "for i in feature:\n",
    "    plt.xlabel(i)\n",
    "    data[i].plot(kind='hist', bins=5, figsize=(12,6), facecolor='grey',edgecolor='black')\n",
    "    plt.show()"
   ]
  },
  {
   "cell_type": "code",
   "execution_count": 15,
   "id": "9843a88f",
   "metadata": {},
   "outputs": [
    {
     "data": {
      "text/plain": [
       "array(['PAYMENT', 'TRANSFER', 'CASH_OUT', 'DEBIT', 'CASH_IN'],\n",
       "      dtype=object)"
      ]
     },
     "execution_count": 15,
     "metadata": {},
     "output_type": "execute_result"
    }
   ],
   "source": [
    "data.type.unique()"
   ]
  },
  {
   "cell_type": "code",
   "execution_count": 16,
   "id": "f5386d57",
   "metadata": {},
   "outputs": [
    {
     "data": {
      "text/plain": [
       "type\n",
       "CASH_OUT    373641\n",
       "PAYMENT     353873\n",
       "CASH_IN     227130\n",
       "TRANSFER     86753\n",
       "DEBIT         7178\n",
       "Name: count, dtype: int64"
      ]
     },
     "execution_count": 16,
     "metadata": {},
     "output_type": "execute_result"
    }
   ],
   "source": [
    "payment = data.type.value_counts()\n",
    "payment"
   ]
  },
  {
   "cell_type": "code",
   "execution_count": 17,
   "id": "9384b13e",
   "metadata": {},
   "outputs": [
    {
     "data": {
      "text/plain": [
       "<Axes: ylabel='Frequency'>"
      ]
     },
     "execution_count": 17,
     "metadata": {},
     "output_type": "execute_result"
    },
    {
     "data": {
      "image/png": "[encoded data removed]",
      "text/plain": [
       "<Figure size 432x288 with 1 Axes>"
      ]
     },
     "metadata": {
      "needs_background": "light"
     },
     "output_type": "display_data"
    }
   ],
   "source": [
    "payment.plot(kind='hist')"
   ]
  },
  {
   "cell_type": "code",
   "execution_count": 16,
   "id": "21623ddf",
   "metadata": {},
   "outputs": [
    {
     "data": {
      "text/plain": [
       "<Axes: xlabel='type', ylabel='count'>"
      ]
     },
     "execution_count": 16,
     "metadata": {},
     "output_type": "execute_result"
    },
    {
     "data": {
      "image/png": "[encoded data removed]",
      "text/plain": [
       "<Figure size 432x288 with 1 Axes>"
      ]
     },
     "metadata": {
      "needs_background": "light"
     },
     "output_type": "display_data"
    }
   ],
   "source": [
    "sns.countplot(x='type', data=data)"
   ]
  },
  {
   "cell_type": "code",
   "execution_count": 17,
   "id": "e90b9edf",
   "metadata": {},
   "outputs": [
    {
     "data": {
      "text/html": [
       "<div>\n",
       "<style scoped>\n",
       "    .dataframe tbody tr th:only-of-type {\n",
       "        vertical-align: middle;\n",
       "    }\n",
       "\n",
       "    .dataframe tbody tr th {\n",
       "        vertical-align: top;\n",
       "    }\n",
       "\n",
       "    .dataframe thead th {\n",
       "        text-align: right;\n",
       "    }\n",
       "</style>\n",
       "<table border=\"1\" class=\"dataframe\">\n",
       "  <thead>\n",
       "    <tr style=\"text-align: right;\">\n",
       "      <th>isFraud</th>\n",
       "      <th>0</th>\n",
       "      <th>1</th>\n",
       "    </tr>\n",
       "    <tr>\n",
       "      <th>type</th>\n",
       "      <th></th>\n",
       "      <th></th>\n",
       "    </tr>\n",
       "  </thead>\n",
       "  <tbody>\n",
       "    <tr>\n",
       "      <th>CASH_IN</th>\n",
       "      <td>227130</td>\n",
       "      <td>0</td>\n",
       "    </tr>\n",
       "    <tr>\n",
       "      <th>CASH_OUT</th>\n",
       "      <td>373063</td>\n",
       "      <td>578</td>\n",
       "    </tr>\n",
       "    <tr>\n",
       "      <th>DEBIT</th>\n",
       "      <td>7178</td>\n",
       "      <td>0</td>\n",
       "    </tr>\n",
       "    <tr>\n",
       "      <th>PAYMENT</th>\n",
       "      <td>353873</td>\n",
       "      <td>0</td>\n",
       "    </tr>\n",
       "    <tr>\n",
       "      <th>TRANSFER</th>\n",
       "      <td>86189</td>\n",
       "      <td>564</td>\n",
       "    </tr>\n",
       "  </tbody>\n",
       "</table>\n",
       "</div>"
      ],
      "text/plain": [
       "isFraud        0    1\n",
       "type                 \n",
       "CASH_IN   227130    0\n",
       "CASH_OUT  373063  578\n",
       "DEBIT       7178    0\n",
       "PAYMENT   353873    0\n",
       "TRANSFER   86189  564"
      ]
     },
     "execution_count": 17,
     "metadata": {},
     "output_type": "execute_result"
    }
   ],
   "source": [
    "cross_tab_result=pd.crosstab(index=data.type,columns=data.isFraud)\n",
    "cross_tab_result"
   ]
  },
  {
   "cell_type": "code",
   "execution_count": 18,
   "id": "5bc6a309",
   "metadata": {},
   "outputs": [
    {
     "data": {
      "text/plain": [
       "type\n",
       "CASH_IN       0\n",
       "CASH_OUT    578\n",
       "DEBIT         0\n",
       "PAYMENT       0\n",
       "TRANSFER    564\n",
       "Name: 1, dtype: int64"
      ]
     },
     "execution_count": 18,
     "metadata": {},
     "output_type": "execute_result"
    }
   ],
   "source": [
    "cross_tab_result[1]"
   ]
  },
  {
   "cell_type": "code",
   "execution_count": 19,
   "id": "2b5ea5c1",
   "metadata": {},
   "outputs": [
    {
     "data": {
      "text/plain": [
       "<Axes: xlabel='type'>"
      ]
     },
     "execution_count": 19,
     "metadata": {},
     "output_type": "execute_result"
    },
    {
     "data": {
      "image/png": "[encoded data removed]",
      "text/plain": [
       "<Figure size 504x288 with 1 Axes>"
      ]
     },
     "metadata": {
      "needs_background": "light"
     },
     "output_type": "display_data"
    }
   ],
   "source": [
    "cross_tab_result.plot.bar(figsize=(7,4), rot=0)"
   ]
  },
  {
   "cell_type": "code",
   "execution_count": 20,
   "id": "1055390d",
   "metadata": {},
   "outputs": [
    {
     "data": {
      "text/plain": [
       "<Axes: xlabel='type'>"
      ]
     },
     "execution_count": 20,
     "metadata": {},
     "output_type": "execute_result"
    },
    {
     "data": {
      "image/png": "[encoded data removed]",
      "text/plain": [
       "<Figure size 504x288 with 1 Axes>"
      ]
     },
     "metadata": {
      "needs_background": "light"
     },
     "output_type": "display_data"
    }
   ],
   "source": [
    "cross_tab_result[1].plot.bar(figsize=(7,4), rot=0)"
   ]
  },
  {
   "cell_type": "code",
   "execution_count": 21,
   "id": "841dcb67",
   "metadata": {},
   "outputs": [
    {
     "data": {
      "text/plain": [
       "(3500.0, 7000.0)"
      ]
     },
     "execution_count": 21,
     "metadata": {},
     "output_type": "execute_result"
    },
    {
     "data": {
      "image/png": "[encoded data removed]",
      "text/plain": [
       "<Figure size 504x288 with 1 Axes>"
      ]
     },
     "metadata": {
      "needs_background": "light"
     },
     "output_type": "display_data"
    }
   ],
   "source": [
    "cross_tab_result.plot.bar(figsize=(7,4), rot=0)\n",
    "plt.ylim([3500, 7000])"
   ]
  },
  {
   "cell_type": "code",
   "execution_count": 22,
   "id": "73d63537",
   "metadata": {},
   "outputs": [
    {
     "data": {
      "text/html": [
       "<div>\n",
       "<style scoped>\n",
       "    .dataframe tbody tr th:only-of-type {\n",
       "        vertical-align: middle;\n",
       "    }\n",
       "\n",
       "    .dataframe tbody tr th {\n",
       "        vertical-align: top;\n",
       "    }\n",
       "\n",
       "    .dataframe thead th {\n",
       "        text-align: right;\n",
       "    }\n",
       "</style>\n",
       "<table border=\"1\" class=\"dataframe\">\n",
       "  <thead>\n",
       "    <tr style=\"text-align: right;\">\n",
       "      <th>isFraud</th>\n",
       "      <th>0</th>\n",
       "      <th>1</th>\n",
       "    </tr>\n",
       "    <tr>\n",
       "      <th>type</th>\n",
       "      <th></th>\n",
       "      <th></th>\n",
       "    </tr>\n",
       "  </thead>\n",
       "  <tbody>\n",
       "    <tr>\n",
       "      <th>CASH_IN</th>\n",
       "      <td>227130</td>\n",
       "      <td>0</td>\n",
       "    </tr>\n",
       "    <tr>\n",
       "      <th>CASH_OUT</th>\n",
       "      <td>373063</td>\n",
       "      <td>578</td>\n",
       "    </tr>\n",
       "    <tr>\n",
       "      <th>DEBIT</th>\n",
       "      <td>7178</td>\n",
       "      <td>0</td>\n",
       "    </tr>\n",
       "    <tr>\n",
       "      <th>PAYMENT</th>\n",
       "      <td>353873</td>\n",
       "      <td>0</td>\n",
       "    </tr>\n",
       "    <tr>\n",
       "      <th>TRANSFER</th>\n",
       "      <td>86189</td>\n",
       "      <td>564</td>\n",
       "    </tr>\n",
       "  </tbody>\n",
       "</table>\n",
       "</div>"
      ],
      "text/plain": [
       "isFraud        0    1\n",
       "type                 \n",
       "CASH_IN   227130    0\n",
       "CASH_OUT  373063  578\n",
       "DEBIT       7178    0\n",
       "PAYMENT   353873    0\n",
       "TRANSFER   86189  564"
      ]
     },
     "execution_count": 22,
     "metadata": {},
     "output_type": "execute_result"
    }
   ],
   "source": [
    "cross_tab_result"
   ]
  },
  {
   "cell_type": "code",
   "execution_count": 23,
   "id": "e7466db7",
   "metadata": {},
   "outputs": [
    {
     "data": {
      "text/plain": [
       "0.18395530726256984"
      ]
     },
     "execution_count": 23,
     "metadata": {},
     "output_type": "execute_result"
    }
   ],
   "source": [
    "cashout= (2233384 + 4116)\n",
    "cashout_fraud= 4116/(cashout) * 100\n",
    "cashout_fraud"
   ]
  },
  {
   "cell_type": "code",
   "execution_count": 24,
   "id": "9f2d1009",
   "metadata": {},
   "outputs": [
    {
     "data": {
      "text/plain": [
       "0.7687991758442811"
      ]
     },
     "execution_count": 24,
     "metadata": {},
     "output_type": "execute_result"
    }
   ],
   "source": [
    "transfer= 528812+4097\n",
    "transfer_fraud = 4097/(transfer) * 100\n",
    "transfer_fraud"
   ]
  },
  {
   "cell_type": "code",
   "execution_count": 25,
   "id": "e1a4c46f",
   "metadata": {},
   "outputs": [
    {
     "data": {
      "text/plain": [
       "0            9839.64\n",
       "1            4220.57\n",
       "2            4220.57\n",
       "3            4220.57\n",
       "4           11668.14\n",
       "             ...    \n",
       "1048570    132557.35\n",
       "1048571      9917.36\n",
       "1048572     14140.05\n",
       "1048573     10020.05\n",
       "1048574     11450.03\n",
       "Name: amount, Length: 1048575, dtype: float64"
      ]
     },
     "execution_count": 25,
     "metadata": {},
     "output_type": "execute_result"
    }
   ],
   "source": [
    "data.amount"
   ]
  },
  {
   "cell_type": "code",
   "execution_count": 26,
   "id": "c8b767b7",
   "metadata": {},
   "outputs": [
    {
     "name": "stdout",
     "output_type": "stream",
     "text": [
      "Minimum:  4220.57\n",
      "Maximum:  373075.3779999999\n"
     ]
    }
   ],
   "source": [
    "print('Minimum: ',data.amount.min())\n",
    "print('Maximum: ',data.amount.max())"
   ]
  },
  {
   "cell_type": "code",
   "execution_count": 27,
   "id": "5bfbdd90",
   "metadata": {},
   "outputs": [
    {
     "data": {
      "text/plain": [
       "<Axes: ylabel='amount'>"
      ]
     },
     "execution_count": 27,
     "metadata": {},
     "output_type": "execute_result"
    },
    {
     "data": {
      "image/png": "[encoded data removed]",
      "text/plain": [
       "<Figure size 720x720 with 1 Axes>"
      ]
     },
     "metadata": {
      "needs_background": "light"
     },
     "output_type": "display_data"
    }
   ],
   "source": [
    "plt.figure(figsize=(10,10))\n",
    "sns.stripplot(y=data.amount)"
   ]
  },
  {
   "cell_type": "code",
   "execution_count": 28,
   "id": "9f868d26",
   "metadata": {},
   "outputs": [
    {
     "data": {
      "text/plain": [
       "<Axes: title={'center': 'amount'}, xlabel='isFraud'>"
      ]
     },
     "execution_count": 28,
     "metadata": {},
     "output_type": "execute_result"
    },
    {
     "data": {
      "image/png": "[encoded data removed]",
      "text/plain": [
       "<Figure size 432x288 with 1 Axes>"
      ]
     },
     "metadata": {
      "needs_background": "light"
     },
     "output_type": "display_data"
    }
   ],
   "source": [
    "data.boxplot(column='amount', by='isFraud')"
   ]
  },
  {
   "cell_type": "code",
   "execution_count": 29,
   "id": "549f0876",
   "metadata": {},
   "outputs": [
    {
     "data": {
      "text/plain": [
       "isFlaggedFraud\n",
       "0    1048575\n",
       "Name: count, dtype: int64"
      ]
     },
     "execution_count": 29,
     "metadata": {},
     "output_type": "execute_result"
    }
   ],
   "source": [
    "data.isFlaggedFraud.value_counts()"
   ]
  },
  {
   "cell_type": "code",
   "execution_count": 30,
   "id": "430e2430",
   "metadata": {},
   "outputs": [
    {
     "data": {
      "text/html": [
       "<div>\n",
       "<style scoped>\n",
       "    .dataframe tbody tr th:only-of-type {\n",
       "        vertical-align: middle;\n",
       "    }\n",
       "\n",
       "    .dataframe tbody tr th {\n",
       "        vertical-align: top;\n",
       "    }\n",
       "\n",
       "    .dataframe thead th {\n",
       "        text-align: right;\n",
       "    }\n",
       "</style>\n",
       "<table border=\"1\" class=\"dataframe\">\n",
       "  <thead>\n",
       "    <tr style=\"text-align: right;\">\n",
       "      <th></th>\n",
       "      <th>step</th>\n",
       "      <th>type</th>\n",
       "      <th>amount</th>\n",
       "      <th>nameOrig</th>\n",
       "      <th>oldbalanceOrg</th>\n",
       "      <th>newbalanceOrig</th>\n",
       "      <th>nameDest</th>\n",
       "      <th>oldbalanceDest</th>\n",
       "      <th>newbalanceDest</th>\n",
       "      <th>isFraud</th>\n",
       "      <th>isFlaggedFraud</th>\n",
       "    </tr>\n",
       "  </thead>\n",
       "  <tbody>\n",
       "  </tbody>\n",
       "</table>\n",
       "</div>"
      ],
      "text/plain": [
       "Empty DataFrame\n",
       "Columns: [step, type, amount, nameOrig, oldbalanceOrg, newbalanceOrig, nameDest, oldbalanceDest, newbalanceDest, isFraud, isFlaggedFraud]\n",
       "Index: []"
      ]
     },
     "execution_count": 30,
     "metadata": {},
     "output_type": "execute_result"
    }
   ],
   "source": [
    "flagged_fraud_records = data[(data.isFraud==1) & (data.isFlaggedFraud==1)]\n",
    "flagged_fraud_records"
   ]
  },
  {
   "cell_type": "code",
   "execution_count": 31,
   "id": "d6262118",
   "metadata": {},
   "outputs": [
    {
     "data": {
      "text/plain": [
       "(0, 11)"
      ]
     },
     "execution_count": 31,
     "metadata": {},
     "output_type": "execute_result"
    }
   ],
   "source": [
    "flagged_fraud_records.shape"
   ]
  },
  {
   "cell_type": "code",
   "execution_count": 32,
   "id": "b3bfefe6",
   "metadata": {},
   "outputs": [
    {
     "data": {
      "text/plain": [
       "1142"
      ]
     },
     "execution_count": 32,
     "metadata": {},
     "output_type": "execute_result"
    }
   ],
   "source": [
    "total_fraud= data[data.isFraud ==1]\n",
    "total_fraud = total_fraud.shape[0]\n",
    "total_fraud"
   ]
  },
  {
   "cell_type": "code",
   "execution_count": 33,
   "id": "4b5b34ea",
   "metadata": {},
   "outputs": [
    {
     "data": {
      "text/plain": [
       "0"
      ]
     },
     "execution_count": 33,
     "metadata": {},
     "output_type": "execute_result"
    }
   ],
   "source": [
    "total_isflaggedFraud= flagged_fraud_records.shape[0]\n",
    "total_isflaggedFraud"
   ]
  },
  {
   "cell_type": "code",
   "execution_count": 34,
   "id": "52fb4d73",
   "metadata": {},
   "outputs": [
    {
     "name": "stdout",
     "output_type": "stream",
     "text": [
      "Percentage of flagged fraud:  0.0\n",
      "Percentage of incorrectly flagged fraud:  100.0\n"
     ]
    }
   ],
   "source": [
    "flagged_percent = total_isflaggedFraud/total_fraud * 100\n",
    "print('Percentage of flagged fraud: ',round(flagged_percent,3))\n",
    "\n",
    "unflagged_percent= (total_fraud-total_isflaggedFraud)/total_fraud * 100\n",
    "print('Percentage of incorrectly flagged fraud: ',round(unflagged_percent,3))"
   ]
  },
  {
   "cell_type": "code",
   "execution_count": 35,
   "id": "3c9e7b8b",
   "metadata": {},
   "outputs": [
    {
     "data": {
      "text/plain": [
       "0.10890971079798775"
      ]
     },
     "execution_count": 35,
     "metadata": {},
     "output_type": "execute_result"
    }
   ],
   "source": [
    "total_transactions = data.shape[0]\n",
    "\n",
    "fraud_transaction = data[data.isFraud==1].shape[0]\n",
    "\n",
    "fraud_percent= fraud_transaction/total_transactions * 100\n",
    "fraud_percent"
   ]
  },
  {
   "cell_type": "code",
   "execution_count": 36,
   "id": "51862d42",
   "metadata": {},
   "outputs": [
    {
     "name": "stdout",
     "output_type": "stream",
     "text": [
      "Total transactions:  1048575\n",
      "Total fraud transactions happened:  1142\n",
      "Total fraud transaction percent:  0.11\n"
     ]
    }
   ],
   "source": [
    "print('Total transactions: ',total_transactions)\n",
    "print('Total fraud transactions happened: ',fraud_transaction)\n",
    "print(\"Total fraud transaction percent: \",round(fraud_percent,2))"
   ]
  },
  {
   "cell_type": "code",
   "execution_count": 37,
   "id": "78a63626",
   "metadata": {},
   "outputs": [
    {
     "data": {
      "text/html": [
       "<div>\n",
       "<style scoped>\n",
       "    .dataframe tbody tr th:only-of-type {\n",
       "        vertical-align: middle;\n",
       "    }\n",
       "\n",
       "    .dataframe tbody tr th {\n",
       "        vertical-align: top;\n",
       "    }\n",
       "\n",
       "    .dataframe thead th {\n",
       "        text-align: right;\n",
       "    }\n",
       "</style>\n",
       "<table border=\"1\" class=\"dataframe\">\n",
       "  <thead>\n",
       "    <tr style=\"text-align: right;\">\n",
       "      <th></th>\n",
       "      <th>step</th>\n",
       "      <th>type</th>\n",
       "      <th>amount</th>\n",
       "      <th>nameOrig</th>\n",
       "      <th>oldbalanceOrg</th>\n",
       "      <th>newbalanceOrig</th>\n",
       "      <th>nameDest</th>\n",
       "      <th>oldbalanceDest</th>\n",
       "      <th>newbalanceDest</th>\n",
       "      <th>isFraud</th>\n",
       "      <th>isFlaggedFraud</th>\n",
       "    </tr>\n",
       "  </thead>\n",
       "  <tbody>\n",
       "    <tr>\n",
       "      <th>1025194</th>\n",
       "      <td>48</td>\n",
       "      <td>CASH_OUT</td>\n",
       "      <td>373075.378</td>\n",
       "      <td>C274359236</td>\n",
       "      <td>1215297.01</td>\n",
       "      <td>0.0</td>\n",
       "      <td>C1653022223</td>\n",
       "      <td>2497294.920</td>\n",
       "      <td>3102896.20</td>\n",
       "      <td>1</td>\n",
       "      <td>0</td>\n",
       "    </tr>\n",
       "    <tr>\n",
       "      <th>992140</th>\n",
       "      <td>45</td>\n",
       "      <td>TRANSFER</td>\n",
       "      <td>373075.378</td>\n",
       "      <td>C1582972194</td>\n",
       "      <td>1069508.42</td>\n",
       "      <td>0.0</td>\n",
       "      <td>C284364603</td>\n",
       "      <td>0.000</td>\n",
       "      <td>0.00</td>\n",
       "      <td>1</td>\n",
       "      <td>0</td>\n",
       "    </tr>\n",
       "    <tr>\n",
       "      <th>955157</th>\n",
       "      <td>44</td>\n",
       "      <td>TRANSFER</td>\n",
       "      <td>373075.378</td>\n",
       "      <td>C369936121</td>\n",
       "      <td>1649818.97</td>\n",
       "      <td>0.0</td>\n",
       "      <td>C1347315975</td>\n",
       "      <td>0.000</td>\n",
       "      <td>0.00</td>\n",
       "      <td>1</td>\n",
       "      <td>0</td>\n",
       "    </tr>\n",
       "    <tr>\n",
       "      <th>955158</th>\n",
       "      <td>44</td>\n",
       "      <td>CASH_OUT</td>\n",
       "      <td>373075.378</td>\n",
       "      <td>C2052172437</td>\n",
       "      <td>1649818.97</td>\n",
       "      <td>0.0</td>\n",
       "      <td>C1401780750</td>\n",
       "      <td>560704.680</td>\n",
       "      <td>2210523.64</td>\n",
       "      <td>1</td>\n",
       "      <td>0</td>\n",
       "    </tr>\n",
       "    <tr>\n",
       "      <th>956900</th>\n",
       "      <td>44</td>\n",
       "      <td>TRANSFER</td>\n",
       "      <td>373075.378</td>\n",
       "      <td>C374179954</td>\n",
       "      <td>387952.42</td>\n",
       "      <td>0.0</td>\n",
       "      <td>C1213274351</td>\n",
       "      <td>0.000</td>\n",
       "      <td>0.00</td>\n",
       "      <td>1</td>\n",
       "      <td>0</td>\n",
       "    </tr>\n",
       "    <tr>\n",
       "      <th>...</th>\n",
       "      <td>...</td>\n",
       "      <td>...</td>\n",
       "      <td>...</td>\n",
       "      <td>...</td>\n",
       "      <td>...</td>\n",
       "      <td>...</td>\n",
       "      <td>...</td>\n",
       "      <td>...</td>\n",
       "      <td>...</td>\n",
       "      <td>...</td>\n",
       "      <td>...</td>\n",
       "    </tr>\n",
       "    <tr>\n",
       "      <th>277266</th>\n",
       "      <td>15</td>\n",
       "      <td>CASH_OUT</td>\n",
       "      <td>4220.570</td>\n",
       "      <td>C1584512618</td>\n",
       "      <td>119.00</td>\n",
       "      <td>0.0</td>\n",
       "      <td>C2102058838</td>\n",
       "      <td>2721593.446</td>\n",
       "      <td>3102896.20</td>\n",
       "      <td>1</td>\n",
       "      <td>0</td>\n",
       "    </tr>\n",
       "    <tr>\n",
       "      <th>301801</th>\n",
       "      <td>15</td>\n",
       "      <td>TRANSFER</td>\n",
       "      <td>4220.570</td>\n",
       "      <td>C553034695</td>\n",
       "      <td>170.00</td>\n",
       "      <td>0.0</td>\n",
       "      <td>C26381896</td>\n",
       "      <td>0.000</td>\n",
       "      <td>0.00</td>\n",
       "      <td>1</td>\n",
       "      <td>0</td>\n",
       "    </tr>\n",
       "    <tr>\n",
       "      <th>301802</th>\n",
       "      <td>15</td>\n",
       "      <td>CASH_OUT</td>\n",
       "      <td>4220.570</td>\n",
       "      <td>C1065370362</td>\n",
       "      <td>170.00</td>\n",
       "      <td>0.0</td>\n",
       "      <td>C200064275</td>\n",
       "      <td>413421.360</td>\n",
       "      <td>345764.15</td>\n",
       "      <td>1</td>\n",
       "      <td>0</td>\n",
       "    </tr>\n",
       "    <tr>\n",
       "      <th>1030696</th>\n",
       "      <td>85</td>\n",
       "      <td>CASH_OUT</td>\n",
       "      <td>4220.570</td>\n",
       "      <td>C823346399</td>\n",
       "      <td>4094.07</td>\n",
       "      <td>0.0</td>\n",
       "      <td>C1910586925</td>\n",
       "      <td>296534.200</td>\n",
       "      <td>300628.27</td>\n",
       "      <td>1</td>\n",
       "      <td>0</td>\n",
       "    </tr>\n",
       "    <tr>\n",
       "      <th>2</th>\n",
       "      <td>1</td>\n",
       "      <td>TRANSFER</td>\n",
       "      <td>4220.570</td>\n",
       "      <td>C1305486145</td>\n",
       "      <td>181.00</td>\n",
       "      <td>0.0</td>\n",
       "      <td>C553264065</td>\n",
       "      <td>0.000</td>\n",
       "      <td>0.00</td>\n",
       "      <td>1</td>\n",
       "      <td>0</td>\n",
       "    </tr>\n",
       "  </tbody>\n",
       "</table>\n",
       "<p>1142 rows × 11 columns</p>\n",
       "</div>"
      ],
      "text/plain": [
       "         step      type      amount     nameOrig  oldbalanceOrg   \n",
       "1025194    48  CASH_OUT  373075.378   C274359236     1215297.01  \\\n",
       "992140     45  TRANSFER  373075.378  C1582972194     1069508.42   \n",
       "955157     44  TRANSFER  373075.378   C369936121     1649818.97   \n",
       "955158     44  CASH_OUT  373075.378  C2052172437     1649818.97   \n",
       "956900     44  TRANSFER  373075.378   C374179954      387952.42   \n",
       "...       ...       ...         ...          ...            ...   \n",
       "277266     15  CASH_OUT    4220.570  C1584512618         119.00   \n",
       "301801     15  TRANSFER    4220.570   C553034695         170.00   \n",
       "301802     15  CASH_OUT    4220.570  C1065370362         170.00   \n",
       "1030696    85  CASH_OUT    4220.570   C823346399        4094.07   \n",
       "2           1  TRANSFER    4220.570  C1305486145         181.00   \n",
       "\n",
       "         newbalanceOrig     nameDest  oldbalanceDest  newbalanceDest  isFraud   \n",
       "1025194             0.0  C1653022223     2497294.920      3102896.20        1  \\\n",
       "992140              0.0   C284364603           0.000            0.00        1   \n",
       "955157              0.0  C1347315975           0.000            0.00        1   \n",
       "955158              0.0  C1401780750      560704.680      2210523.64        1   \n",
       "956900              0.0  C1213274351           0.000            0.00        1   \n",
       "...                 ...          ...             ...             ...      ...   \n",
       "277266              0.0  C2102058838     2721593.446      3102896.20        1   \n",
       "301801              0.0    C26381896           0.000            0.00        1   \n",
       "301802              0.0   C200064275      413421.360       345764.15        1   \n",
       "1030696             0.0  C1910586925      296534.200       300628.27        1   \n",
       "2                   0.0   C553264065           0.000            0.00        1   \n",
       "\n",
       "         isFlaggedFraud  \n",
       "1025194               0  \n",
       "992140                0  \n",
       "955157                0  \n",
       "955158                0  \n",
       "956900                0  \n",
       "...                 ...  \n",
       "277266                0  \n",
       "301801                0  \n",
       "301802                0  \n",
       "1030696               0  \n",
       "2                     0  \n",
       "\n",
       "[1142 rows x 11 columns]"
      ]
     },
     "execution_count": 37,
     "metadata": {},
     "output_type": "execute_result"
    }
   ],
   "source": [
    "fraud_amount= data[data.isFraud==1]\n",
    "fraud_amount=fraud_amount.sort_values(by=['amount'],ascending=False)\n",
    "fraud_amount"
   ]
  },
  {
   "cell_type": "code",
   "execution_count": 38,
   "id": "26801782",
   "metadata": {},
   "outputs": [
    {
     "data": {
      "text/plain": [
       "<Axes: ylabel='Frequency'>"
      ]
     },
     "execution_count": 38,
     "metadata": {},
     "output_type": "execute_result"
    },
    {
     "data": {
      "image/png": "[encoded data removed]",
      "text/plain": [
       "<Figure size 864x432 with 1 Axes>"
      ]
     },
     "metadata": {
      "needs_background": "light"
     },
     "output_type": "display_data"
    }
   ],
   "source": [
    "fraud_amount.amount.plot(kind='hist', bins=15, figsize=(12,6), facecolor='orange',edgecolor='black')"
   ]
  },
  {
   "cell_type": "code",
   "execution_count": 39,
   "id": "06c441ed",
   "metadata": {},
   "outputs": [
    {
     "data": {
      "text/plain": [
       "nameDest\n",
       "C985934102     98\n",
       "C1286084959    96\n",
       "C1590550415    89\n",
       "C248609774     88\n",
       "C665576141     87\n",
       "               ..\n",
       "M382871047      1\n",
       "M322765556      1\n",
       "M1118794441     1\n",
       "M1127250627     1\n",
       "M677577406      1\n",
       "Name: count, Length: 449635, dtype: int64"
      ]
     },
     "execution_count": 39,
     "metadata": {},
     "output_type": "execute_result"
    }
   ],
   "source": [
    "fraudster= data.nameDest.value_counts()\n",
    "fraudster"
   ]
  },
  {
   "cell_type": "code",
   "execution_count": 40,
   "id": "d7f5ecba",
   "metadata": {},
   "outputs": [
    {
     "data": {
      "text/plain": [
       "nameDest\n",
       "C985934102     98\n",
       "C1286084959    96\n",
       "C1590550415    89\n",
       "C248609774     88\n",
       "C665576141     87\n",
       "C2083562754    86\n",
       "C977993101     82\n",
       "C1360767589    81\n",
       "C451111351     80\n",
       "C306206744     79\n",
       "Name: count, dtype: int64"
      ]
     },
     "execution_count": 40,
     "metadata": {},
     "output_type": "execute_result"
    }
   ],
   "source": [
    "fraudster[:10]"
   ]
  },
  {
   "cell_type": "code",
   "execution_count": 41,
   "id": "4e08d3e5",
   "metadata": {},
   "outputs": [
    {
     "data": {
      "text/plain": [
       "<Axes: ylabel='nameDest'>"
      ]
     },
     "execution_count": 41,
     "metadata": {},
     "output_type": "execute_result"
    },
    {
     "data": {
      "image/png": "[encoded data removed]",
      "text/plain": [
       "<Figure size 432x288 with 1 Axes>"
      ]
     },
     "metadata": {
      "needs_background": "light"
     },
     "output_type": "display_data"
    }
   ],
   "source": [
    "fraudster[:10].plot(kind='barh')"
   ]
  },
  {
   "cell_type": "code",
   "execution_count": 42,
   "id": "12887003",
   "metadata": {},
   "outputs": [
    {
     "name": "stderr",
     "output_type": "stream",
     "text": [
      "C:\\Users\\Chandrashekhar gupta\\AppData\\Local\\Temp\\ipykernel_10760\\1113131929.py:2: UserWarning: \n",
      "\n",
      "`distplot` is a deprecated function and will be removed in seaborn v0.14.0.\n",
      "\n",
      "Please adapt your code to use either `displot` (a figure-level function with\n",
      "similar flexibility) or `histplot` (an axes-level function for histograms).\n",
      "\n",
      "For a guide to updating your code to use the new functions, please see\n",
      "https://gist.github.com/mwaskom/de44147ed2974457ad6372750bbe5751\n",
      "\n",
      "  sns.distplot(data['step'], bins=50)\n"
     ]
    },
    {
     "data": {
      "text/plain": [
       "<Axes: xlabel='step', ylabel='Density'>"
      ]
     },
     "execution_count": 42,
     "metadata": {},
     "output_type": "execute_result"
    },
    {
     "data": {
      "image/png": "[encoded data removed]",
      "text/plain": [
       "<Figure size 1080x432 with 1 Axes>"
      ]
     },
     "metadata": {
      "needs_background": "light"
     },
     "output_type": "display_data"
    }
   ],
   "source": [
    "plt.figure(figsize=(15, 6))\n",
    "sns.distplot(data['step'], bins=50)"
   ]
  },
  {
   "cell_type": "code",
   "execution_count": 43,
   "id": "e965521b",
   "metadata": {},
   "outputs": [
    {
     "data": {
      "text/plain": [
       "isFraud\n",
       "0    1047433\n",
       "1       1142\n",
       "Name: count, dtype: int64"
      ]
     },
     "execution_count": 43,
     "metadata": {},
     "output_type": "execute_result"
    }
   ],
   "source": [
    "data.isFraud.value_counts()"
   ]
  },
  {
   "cell_type": "code",
   "execution_count": 44,
   "id": "e57ce47e",
   "metadata": {},
   "outputs": [
    {
     "data": {
      "image/png": "[encoded data removed]",
      "text/plain": [
       "<Figure size 432x288 with 1 Axes>"
      ]
     },
     "metadata": {},
     "output_type": "display_data"
    }
   ],
   "source": [
    "plt.pie(data.isFraud.value_counts(),\n",
    "        autopct='%1.1f%%', pctdistance=0.85)\n",
    "centre_circle = plt.Circle((0, 0), 0.70, fc='white')\n",
    "fig = plt.gcf()\n",
    "fig.gca().add_artist(centre_circle)\n",
    "plt.show()"
   ]
  },
  {
   "cell_type": "code",
   "execution_count": 45,
   "id": "575040cc",
   "metadata": {},
   "outputs": [
    {
     "name": "stdout",
     "output_type": "stream",
     "text": [
      "class 0: (1047433, 11)\n",
      "class 1: (1142, 11)\n"
     ]
    }
   ],
   "source": [
    "class_count_0, class_count_1 = data['isFraud'].value_counts()\n",
    "class_0 = data[data['isFraud'] == 0]\n",
    "class_1 = data[data['isFraud'] == 1]# print the shape of the class\n",
    "print('class 0:', class_0.shape)\n",
    "print('class 1:', class_1.shape)"
   ]
  },
  {
   "cell_type": "code",
   "execution_count": 46,
   "id": "4eb2fbe1",
   "metadata": {},
   "outputs": [
    {
     "name": "stdout",
     "output_type": "stream",
     "text": [
      "total class of 1 and0: isFraud\n",
      "0    1142\n",
      "1    1142\n",
      "Name: count, dtype: int64\n"
     ]
    },
    {
     "data": {
      "text/plain": [
       "<Axes: title={'center': 'count (target)'}, xlabel='isFraud'>"
      ]
     },
     "execution_count": 46,
     "metadata": {},
     "output_type": "execute_result"
    },
    {
     "data": {
      "image/png": "[encoded data removed]",
      "text/plain": [
       "<Figure size 432x288 with 1 Axes>"
      ]
     },
     "metadata": {
      "needs_background": "light"
     },
     "output_type": "display_data"
    }
   ],
   "source": [
    "class_0_under = class_0.sample(class_count_1)\n",
    "\n",
    "balanced_data = pd.concat([class_0_under, class_1], axis=0)\n",
    "\n",
    "print(\"total class of 1 and0:\",balanced_data['isFraud'].value_counts())# plot the count after under-sampeling\n",
    "balanced_data['isFraud'].value_counts().plot(kind='bar', title='count (target)')"
   ]
  },
  {
   "cell_type": "code",
   "execution_count": 47,
   "id": "970229c2",
   "metadata": {},
   "outputs": [
    {
     "data": {
      "text/html": [
       "<div>\n",
       "<style scoped>\n",
       "    .dataframe tbody tr th:only-of-type {\n",
       "        vertical-align: middle;\n",
       "    }\n",
       "\n",
       "    .dataframe tbody tr th {\n",
       "        vertical-align: top;\n",
       "    }\n",
       "\n",
       "    .dataframe thead th {\n",
       "        text-align: right;\n",
       "    }\n",
       "</style>\n",
       "<table border=\"1\" class=\"dataframe\">\n",
       "  <thead>\n",
       "    <tr style=\"text-align: right;\">\n",
       "      <th></th>\n",
       "      <th>step</th>\n",
       "      <th>type</th>\n",
       "      <th>amount</th>\n",
       "      <th>nameOrig</th>\n",
       "      <th>oldbalanceOrg</th>\n",
       "      <th>newbalanceOrig</th>\n",
       "      <th>nameDest</th>\n",
       "      <th>oldbalanceDest</th>\n",
       "      <th>newbalanceDest</th>\n",
       "      <th>isFraud</th>\n",
       "      <th>isFlaggedFraud</th>\n",
       "    </tr>\n",
       "  </thead>\n",
       "  <tbody>\n",
       "    <tr>\n",
       "      <th>885922</th>\n",
       "      <td>42</td>\n",
       "      <td>CASH_IN</td>\n",
       "      <td>104547.89</td>\n",
       "      <td>C1042925236</td>\n",
       "      <td>1213519.26</td>\n",
       "      <td>1318067.14</td>\n",
       "      <td>C2118611862</td>\n",
       "      <td>2721593.446</td>\n",
       "      <td>3102896.20</td>\n",
       "      <td>0</td>\n",
       "      <td>0</td>\n",
       "    </tr>\n",
       "    <tr>\n",
       "      <th>1015838</th>\n",
       "      <td>47</td>\n",
       "      <td>PAYMENT</td>\n",
       "      <td>4220.57</td>\n",
       "      <td>C1044928037</td>\n",
       "      <td>149596.00</td>\n",
       "      <td>149559.01</td>\n",
       "      <td>M1543713637</td>\n",
       "      <td>0.000</td>\n",
       "      <td>0.00</td>\n",
       "      <td>0</td>\n",
       "      <td>0</td>\n",
       "    </tr>\n",
       "    <tr>\n",
       "      <th>811664</th>\n",
       "      <td>40</td>\n",
       "      <td>CASH_IN</td>\n",
       "      <td>99538.53</td>\n",
       "      <td>C1895241293</td>\n",
       "      <td>63202.00</td>\n",
       "      <td>162740.53</td>\n",
       "      <td>C1584529136</td>\n",
       "      <td>14364.400</td>\n",
       "      <td>0.00</td>\n",
       "      <td>0</td>\n",
       "      <td>0</td>\n",
       "    </tr>\n",
       "    <tr>\n",
       "      <th>465747</th>\n",
       "      <td>19</td>\n",
       "      <td>DEBIT</td>\n",
       "      <td>4220.57</td>\n",
       "      <td>C1988310465</td>\n",
       "      <td>31013.00</td>\n",
       "      <td>27987.28</td>\n",
       "      <td>C1793413847</td>\n",
       "      <td>27380.220</td>\n",
       "      <td>30405.94</td>\n",
       "      <td>0</td>\n",
       "      <td>0</td>\n",
       "    </tr>\n",
       "    <tr>\n",
       "      <th>396547</th>\n",
       "      <td>18</td>\n",
       "      <td>CASH_IN</td>\n",
       "      <td>275815.76</td>\n",
       "      <td>C1823225429</td>\n",
       "      <td>74726.00</td>\n",
       "      <td>350541.76</td>\n",
       "      <td>C985523765</td>\n",
       "      <td>93497.120</td>\n",
       "      <td>0.00</td>\n",
       "      <td>0</td>\n",
       "      <td>0</td>\n",
       "    </tr>\n",
       "    <tr>\n",
       "      <th>...</th>\n",
       "      <td>...</td>\n",
       "      <td>...</td>\n",
       "      <td>...</td>\n",
       "      <td>...</td>\n",
       "      <td>...</td>\n",
       "      <td>...</td>\n",
       "      <td>...</td>\n",
       "      <td>...</td>\n",
       "      <td>...</td>\n",
       "      <td>...</td>\n",
       "      <td>...</td>\n",
       "    </tr>\n",
       "    <tr>\n",
       "      <th>1047888</th>\n",
       "      <td>95</td>\n",
       "      <td>CASH_OUT</td>\n",
       "      <td>56745.14</td>\n",
       "      <td>C526144262</td>\n",
       "      <td>56745.14</td>\n",
       "      <td>0.00</td>\n",
       "      <td>C79051264</td>\n",
       "      <td>51433.880</td>\n",
       "      <td>108179.02</td>\n",
       "      <td>1</td>\n",
       "      <td>0</td>\n",
       "    </tr>\n",
       "    <tr>\n",
       "      <th>1048221</th>\n",
       "      <td>95</td>\n",
       "      <td>TRANSFER</td>\n",
       "      <td>33676.59</td>\n",
       "      <td>C732111322</td>\n",
       "      <td>33676.59</td>\n",
       "      <td>0.00</td>\n",
       "      <td>C1140210295</td>\n",
       "      <td>0.000</td>\n",
       "      <td>0.00</td>\n",
       "      <td>1</td>\n",
       "      <td>0</td>\n",
       "    </tr>\n",
       "    <tr>\n",
       "      <th>1048222</th>\n",
       "      <td>95</td>\n",
       "      <td>CASH_OUT</td>\n",
       "      <td>33676.59</td>\n",
       "      <td>C1000086512</td>\n",
       "      <td>33676.59</td>\n",
       "      <td>0.00</td>\n",
       "      <td>C1759363094</td>\n",
       "      <td>0.000</td>\n",
       "      <td>33676.59</td>\n",
       "      <td>1</td>\n",
       "      <td>0</td>\n",
       "    </tr>\n",
       "    <tr>\n",
       "      <th>1048323</th>\n",
       "      <td>95</td>\n",
       "      <td>TRANSFER</td>\n",
       "      <td>87999.25</td>\n",
       "      <td>C927181710</td>\n",
       "      <td>87999.25</td>\n",
       "      <td>0.00</td>\n",
       "      <td>C757947873</td>\n",
       "      <td>0.000</td>\n",
       "      <td>0.00</td>\n",
       "      <td>1</td>\n",
       "      <td>0</td>\n",
       "    </tr>\n",
       "    <tr>\n",
       "      <th>1048324</th>\n",
       "      <td>95</td>\n",
       "      <td>CASH_OUT</td>\n",
       "      <td>87999.25</td>\n",
       "      <td>C409531429</td>\n",
       "      <td>87999.25</td>\n",
       "      <td>0.00</td>\n",
       "      <td>C1827219533</td>\n",
       "      <td>0.000</td>\n",
       "      <td>87999.25</td>\n",
       "      <td>1</td>\n",
       "      <td>0</td>\n",
       "    </tr>\n",
       "  </tbody>\n",
       "</table>\n",
       "<p>2284 rows × 11 columns</p>\n",
       "</div>"
      ],
      "text/plain": [
       "         step      type     amount     nameOrig  oldbalanceOrg   \n",
       "885922     42   CASH_IN  104547.89  C1042925236     1213519.26  \\\n",
       "1015838    47   PAYMENT    4220.57  C1044928037      149596.00   \n",
       "811664     40   CASH_IN   99538.53  C1895241293       63202.00   \n",
       "465747     19     DEBIT    4220.57  C1988310465       31013.00   \n",
       "396547     18   CASH_IN  275815.76  C1823225429       74726.00   \n",
       "...       ...       ...        ...          ...            ...   \n",
       "1047888    95  CASH_OUT   56745.14   C526144262       56745.14   \n",
       "1048221    95  TRANSFER   33676.59   C732111322       33676.59   \n",
       "1048222    95  CASH_OUT   33676.59  C1000086512       33676.59   \n",
       "1048323    95  TRANSFER   87999.25   C927181710       87999.25   \n",
       "1048324    95  CASH_OUT   87999.25   C409531429       87999.25   \n",
       "\n",
       "         newbalanceOrig     nameDest  oldbalanceDest  newbalanceDest  isFraud   \n",
       "885922       1318067.14  C2118611862     2721593.446      3102896.20        0  \\\n",
       "1015838       149559.01  M1543713637           0.000            0.00        0   \n",
       "811664        162740.53  C1584529136       14364.400            0.00        0   \n",
       "465747         27987.28  C1793413847       27380.220        30405.94        0   \n",
       "396547        350541.76   C985523765       93497.120            0.00        0   \n",
       "...                 ...          ...             ...             ...      ...   \n",
       "1047888            0.00    C79051264       51433.880       108179.02        1   \n",
       "1048221            0.00  C1140210295           0.000            0.00        1   \n",
       "1048222            0.00  C1759363094           0.000        33676.59        1   \n",
       "1048323            0.00   C757947873           0.000            0.00        1   \n",
       "1048324            0.00  C1827219533           0.000        87999.25        1   \n",
       "\n",
       "         isFlaggedFraud  \n",
       "885922                0  \n",
       "1015838               0  \n",
       "811664                0  \n",
       "465747                0  \n",
       "396547                0  \n",
       "...                 ...  \n",
       "1047888               0  \n",
       "1048221               0  \n",
       "1048222               0  \n",
       "1048323               0  \n",
       "1048324               0  \n",
       "\n",
       "[2284 rows x 11 columns]"
      ]
     },
     "execution_count": 47,
     "metadata": {},
     "output_type": "execute_result"
    }
   ],
   "source": [
    "balanced_data"
   ]
  },
  {
   "cell_type": "code",
   "execution_count": 48,
   "id": "06ffbd2b",
   "metadata": {},
   "outputs": [
    {
     "name": "stdout",
     "output_type": "stream",
     "text": [
      "<class 'pandas.core.frame.DataFrame'>\n",
      "Index: 2284 entries, 885922 to 1048324\n",
      "Data columns (total 11 columns):\n",
      " #   Column          Non-Null Count  Dtype  \n",
      "---  ------          --------------  -----  \n",
      " 0   step            2284 non-null   int64  \n",
      " 1   type            2284 non-null   object \n",
      " 2   amount          2284 non-null   float64\n",
      " 3   nameOrig        2284 non-null   object \n",
      " 4   oldbalanceOrg   2284 non-null   float64\n",
      " 5   newbalanceOrig  2284 non-null   float64\n",
      " 6   nameDest        2284 non-null   object \n",
      " 7   oldbalanceDest  2284 non-null   float64\n",
      " 8   newbalanceDest  2284 non-null   float64\n",
      " 9   isFraud         2284 non-null   int64  \n",
      " 10  isFlaggedFraud  2284 non-null   int64  \n",
      "dtypes: float64(5), int64(3), object(3)\n",
      "memory usage: 214.1+ KB\n"
     ]
    }
   ],
   "source": [
    "balanced_data.info()"
   ]
  },
  {
   "cell_type": "code",
   "execution_count": 49,
   "id": "faa81f43",
   "metadata": {},
   "outputs": [
    {
     "data": {
      "text/plain": [
       "array(['CASH_IN', 'PAYMENT', 'DEBIT', 'CASH_OUT', 'TRANSFER'],\n",
       "      dtype=object)"
      ]
     },
     "execution_count": 49,
     "metadata": {},
     "output_type": "execute_result"
    }
   ],
   "source": [
    "balanced_data.type.unique()"
   ]
  },
  {
   "cell_type": "code",
   "execution_count": 50,
   "id": "f1980059",
   "metadata": {},
   "outputs": [],
   "source": [
    "balanced_data[\"type\"] = balanced_data[\"type\"].map({\"CASH_OUT\": 1, \"PAYMENT\": 2, \"CASH_IN\": 3, \"TRANSFER\": 4, \"DEBIT\": 5})"
   ]
  },
  {
   "cell_type": "code",
   "execution_count": 51,
   "id": "d482a0a4",
   "metadata": {},
   "outputs": [
    {
     "data": {
      "text/plain": [
       "Index(['step', 'type', 'amount', 'nameOrig', 'oldbalanceOrg', 'newbalanceOrig',\n",
       "       'nameDest', 'oldbalanceDest', 'newbalanceDest', 'isFraud',\n",
       "       'isFlaggedFraud'],\n",
       "      dtype='object')"
      ]
     },
     "execution_count": 51,
     "metadata": {},
     "output_type": "execute_result"
    }
   ],
   "source": [
    "balanced_data.columns"
   ]
  },
  {
   "cell_type": "code",
   "execution_count": 52,
   "id": "a20bd8c4",
   "metadata": {},
   "outputs": [],
   "source": [
    "X = balanced_data[['type', 'amount', 'oldbalanceOrg', 'newbalanceOrig']].values\n",
    "y = balanced_data['isFraud'].values"
   ]
  },
  {
   "cell_type": "code",
   "execution_count": 54,
   "id": "ac42458c",
   "metadata": {},
   "outputs": [],
   "source": [
    "from sklearn.model_selection import train_test_split\n",
    "X_train, X_test, y_train, y_test = train_test_split(X, y, test_size=0.2, random_state=0)"
   ]
  },
  {
   "cell_type": "code",
   "execution_count": 55,
   "id": "ca9cdb66",
   "metadata": {},
   "outputs": [
    {
     "name": "stdout",
     "output_type": "stream",
     "text": [
      "[2.25506294e+00 1.86283638e+05 4.81392925e+05 1.59886847e+05]\n"
     ]
    }
   ],
   "source": [
    "from sklearn.preprocessing import StandardScaler\n",
    "scaler= StandardScaler()\n",
    "scaler.fit(X_train)\n",
    "print(scaler.mean_)\n",
    "X_train = scaler.transform(X_train)\n",
    "X_test = scaler.transform(X_test)"
   ]
  },
  {
   "cell_type": "code",
   "execution_count": 56,
   "id": "650329c2",
   "metadata": {},
   "outputs": [],
   "source": [
    "from sklearn import preprocessing\n",
    "from sklearn import utils\n",
    "\n",
    "#convert y values to categorical values\n",
    "lab = preprocessing.LabelEncoder()\n",
    "y_train = lab.fit_transform(y_train)\n",
    "y_test = lab.fit_transform(y_test)"
   ]
  },
  {
   "cell_type": "code",
   "execution_count": 57,
   "id": "4a745d21",
   "metadata": {},
   "outputs": [],
   "source": [
    "import warnings\n",
    "warnings.filterwarnings(\"ignore\")\n",
    "from sklearn.linear_model import LogisticRegression\n",
    "from sklearn.neighbors import KNeighborsClassifier\n",
    "from sklearn.svm import SVC\n",
    "from sklearn.naive_bayes import GaussianNB\n",
    "from sklearn.tree import DecisionTreeClassifier\n",
    "from sklearn.ensemble import RandomForestClassifier\n",
    "from xgboost import XGBClassifier\n",
    "from sklearn.metrics import confusion_matrix, accuracy_score, precision_score, recall_score, f1_score, fbeta_score"
   ]
  },
  {
   "cell_type": "code",
   "execution_count": 58,
   "id": "9af597e0",
   "metadata": {},
   "outputs": [],
   "source": [
    "models = {\n",
    "    \"LR\": LogisticRegression(),\n",
    "    \"KNN\": KNeighborsClassifier(),\n",
    "    \"DT\": DecisionTreeClassifier(),\n",
    "    \"RF\": RandomForestClassifier(),\n",
    "    \"XGB\": XGBClassifier(),\n",
    "    \"Naive Bayes\": GaussianNB(),\n",
    "    \"SVC\": SVC()\n",
    "\n",
    "}"
   ]
  },
  {
   "cell_type": "code",
   "execution_count": 59,
   "id": "b5092f3c",
   "metadata": {},
   "outputs": [
    {
     "name": "stdout",
     "output_type": "stream",
     "text": [
      "Training Model LR \n",
      "--------------\n",
      "Training Accuracy: 0.8850574712643678\n",
      "Testing Accuracy: 0.9059080962800875\n",
      "Testing Confusion Matrix: \n",
      "[[228   6]\n",
      " [ 37 186]]\n",
      "Recall Score :  0.9059080962800875\n",
      "Precision Score :  0.9059080962800875\n",
      "Testing F-1: 0.9059080962800875\n",
      "Testing F-Beta: 0.9059080962800874\n",
      "------------------------------\n",
      "Training Model KNN \n",
      "--------------\n",
      "Training Accuracy: 0.9688013136288999\n",
      "Testing Accuracy: 0.962800875273523\n",
      "Testing Confusion Matrix: \n",
      "[[221  13]\n",
      " [  4 219]]\n",
      "Recall Score :  0.962800875273523\n",
      "Precision Score :  0.962800875273523\n",
      "Testing F-1: 0.962800875273523\n",
      "Testing F-Beta: 0.9628008752735231\n",
      "------------------------------\n",
      "Training Model DT \n",
      "--------------\n",
      "Training Accuracy: 0.9961685823754789\n",
      "Testing Accuracy: 0.9846827133479212\n",
      "Testing Confusion Matrix: \n",
      "[[231   3]\n",
      " [  4 219]]\n",
      "Recall Score :  0.9846827133479212\n",
      "Precision Score :  0.9846827133479212\n",
      "Testing F-1: 0.9846827133479212\n",
      "Testing F-Beta: 0.9846827133479211\n",
      "------------------------------\n",
      "Training Model RF \n",
      "--------------\n",
      "Training Accuracy: 0.9961685823754789\n",
      "Testing Accuracy: 0.9846827133479212\n",
      "Testing Confusion Matrix: \n",
      "[[230   4]\n",
      " [  3 220]]\n",
      "Recall Score :  0.9846827133479212\n",
      "Precision Score :  0.9846827133479212\n",
      "Testing F-1: 0.9846827133479212\n",
      "Testing F-Beta: 0.9846827133479211\n",
      "------------------------------\n",
      "Training Model XGB \n",
      "--------------\n",
      "Training Accuracy: 0.9923371647509579\n",
      "Testing Accuracy: 0.9846827133479212\n",
      "Testing Confusion Matrix: \n",
      "[[230   4]\n",
      " [  3 220]]\n",
      "Recall Score :  0.9846827133479212\n",
      "Precision Score :  0.9846827133479212\n",
      "Testing F-1: 0.9846827133479212\n",
      "Testing F-Beta: 0.9846827133479211\n",
      "------------------------------\n",
      "Training Model Naive Bayes \n",
      "--------------\n",
      "Training Accuracy: 0.7629994526546251\n",
      "Testing Accuracy: 0.7571115973741794\n",
      "Testing Confusion Matrix: \n",
      "[[137  97]\n",
      " [ 14 209]]\n",
      "Recall Score :  0.7571115973741794\n",
      "Precision Score :  0.7571115973741794\n",
      "Testing F-1: 0.7571115973741794\n",
      "Testing F-Beta: 0.7571115973741794\n",
      "------------------------------\n",
      "Training Model SVC \n",
      "--------------\n",
      "Training Accuracy: 0.9200875752599891\n",
      "Testing Accuracy: 0.9102844638949672\n",
      "Testing Confusion Matrix: \n",
      "[[196  38]\n",
      " [  3 220]]\n",
      "Recall Score :  0.9102844638949672\n",
      "Precision Score :  0.9102844638949672\n",
      "Testing F-1: 0.9102844638949672\n",
      "Testing F-Beta: 0.9102844638949671\n",
      "------------------------------\n"
     ]
    }
   ],
   "source": [
    "for name, model in models.items():\n",
    "    print(f'Training Model {name} \\n--------------')\n",
    "    model.fit(X_train, y_train)\n",
    "    y_pred = model.predict(X_test)\n",
    "    print(f'Training Accuracy: {accuracy_score(y_train, model.predict(X_train))}')\n",
    "    print(f'Testing Accuracy: {accuracy_score(y_test, y_pred)}')\n",
    "    print(f'Testing Confusion Matrix: \\n{confusion_matrix(y_test, y_pred)}')\n",
    "    print(\"Recall Score : \",recall_score(y_test, y_pred, pos_label='positive', average='micro'))    \n",
    "    print(\"Precision Score : \",precision_score(y_test, y_pred,  pos_label='positive',average='micro'))     \n",
    "    print(f\"Testing F-1:\", f1_score(y_test, y_pred, pos_label='positive', average='micro' )        )\n",
    "    print(f\"Testing F-Beta:\", fbeta_score(y_test, y_pred, beta=0.5, pos_label='positive', average='micro'))\n",
    "    print('-'*30)"
   ]
  },
  {
   "cell_type": "code",
   "execution_count": 60,
   "id": "630f86d0",
   "metadata": {},
   "outputs": [
    {
     "name": "stdout",
     "output_type": "stream",
     "text": [
      "XGBClassifier(base_score=None, booster=None, callbacks=None,\n",
      "              colsample_bylevel=None, colsample_bynode=None,\n",
      "              colsample_bytree=None, early_stopping_rounds=None,\n",
      "              enable_categorical=False, eval_metric=None, feature_types=None,\n",
      "              gamma=None, gpu_id=None, grow_policy=None, importance_type=None,\n",
      "              interaction_constraints=None, learning_rate=None, max_bin=None,\n",
      "              max_cat_threshold=None, max_cat_to_onehot=None,\n",
      "              max_delta_step=None, max_depth=None, max_leaves=None,\n",
      "              min_child_weight=None, missing=nan, monotone_constraints=None,\n",
      "              n_estimators=100, n_jobs=None, num_parallel_tree=None,\n",
      "              predictor=None, random_state=None, ...)\n"
     ]
    }
   ],
   "source": [
    "#Display the different parameter of the model\n",
    "model = XGBClassifier()\n",
    "model.fit(X_train, y_train)\n",
    "print(model)"
   ]
  },
  {
   "cell_type": "code",
   "execution_count": 61,
   "id": "d400e046",
   "metadata": {},
   "outputs": [],
   "source": [
    "# Make predictions for test data\n",
    "y_pred = model.predict(X_test)\n",
    "predictions = [round(value) for value in y_pred]"
   ]
  },
  {
   "cell_type": "code",
   "execution_count": 62,
   "id": "2bb9c9ff",
   "metadata": {},
   "outputs": [
    {
     "name": "stdout",
     "output_type": "stream",
     "text": [
      "Accuracy: 98.47%\n"
     ]
    }
   ],
   "source": [
    "# Evaluate predictions\n",
    "accuracy = accuracy_score(y_test, predictions)\n",
    "print(\"Accuracy: %.2f%%\" % (accuracy * 100.0))"
   ]
  },
  {
   "cell_type": "code",
   "execution_count": 63,
   "id": "07972563",
   "metadata": {},
   "outputs": [
    {
     "name": "stdout",
     "output_type": "stream",
     "text": [
      "is Fraud\n"
     ]
    }
   ],
   "source": [
    "new_data = [[2,181,181,0]]\n",
    "if  model.predict(new_data)[0] == 0:\n",
    "    print('not Fraud')\n",
    "else: print('is Fraud')"
   ]
  },
  {
   "cell_type": "code",
   "execution_count": null,
   "id": "8197c704",
   "metadata": {},
   "outputs": [],
   "source": []
  },
  {
   "cell_type": "code",
   "execution_count": null,
   "id": "02de3fca",
   "metadata": {},
   "outputs": [],
   "source": []
  },
  {
   "cell_type": "code",
   "execution_count": null,
   "id": "979f3369",
   "metadata": {},
   "outputs": [],
   "source": []
  },
  {
   "cell_type": "code",
   "execution_count": null,
   "id": "14f738cb",
   "metadata": {},
   "outputs": [],
   "source": []
  }
 ],
 "metadata": {
  "kernelspec": {
   "display_name": "Python 3 (ipykernel)",
   "language": "python",
   "name": "python3"
  },
  "language_info": {
   "codemirror_mode": {
    "name": "ipython",
    "version": 3
   },
   "file_extension": ".py",
   "mimetype": "text/x-python",
   "name": "python",
   "nbconvert_exporter": "python",
   "pygments_lexer": "ipython3",
   "version": "3.9.12"
  }
 },
 "nbformat": 4,
 "nbformat_minor": 5
}
